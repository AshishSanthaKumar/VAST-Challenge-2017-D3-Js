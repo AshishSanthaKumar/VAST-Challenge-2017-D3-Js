{
 "metadata": {
  "language_info": {
   "codemirror_mode": {
    "name": "ipython",
    "version": 3
   },
   "file_extension": ".py",
   "mimetype": "text/x-python",
   "name": "python",
   "nbconvert_exporter": "python",
   "pygments_lexer": "ipython3",
   "version": "2.7.16-final"
  },
  "orig_nbformat": 2,
  "kernelspec": {
   "name": "Python 2.7.16 64-bit",
   "display_name": "Python 2.7.16 64-bit",
   "metadata": {
    "interpreter": {
     "hash": "767d51c1340bd893661ea55ea3124f6de3c7a262a8b4abca0554b478b1e2ff90"
    }
   }
  }
 },
 "nbformat": 4,
 "nbformat_minor": 2,
 "cells": [
  {
   "cell_type": "code",
   "execution_count": 2,
   "metadata": {},
   "outputs": [],
   "source": [
    "import pandas as pd\n",
    "from datetime import datetime"
   ]
  },
  {
   "cell_type": "code",
   "execution_count": 3,
   "metadata": {},
   "outputs": [],
   "source": [
    "sensor_1 = pd.read_csv('sensor_1.csv')"
   ]
  },
  {
   "cell_type": "code",
   "execution_count": 4,
   "metadata": {},
   "outputs": [
    {
     "output_type": "execute_result",
     "data": {
      "text/html": "<div>\n<style scoped>\n    .dataframe tbody tr th:only-of-type {\n        vertical-align: middle;\n    }\n\n    .dataframe tbody tr th {\n        vertical-align: top;\n    }\n\n    .dataframe thead th {\n        text-align: right;\n    }\n</style>\n<table border=\"1\" class=\"dataframe\">\n  <thead>\n    <tr style=\"text-align: right;\">\n      <th></th>\n      <th>Unnamed: 0</th>\n      <th>date</th>\n      <th>chemical</th>\n      <th>monitor</th>\n      <th>reading</th>\n      <th>wind_direction</th>\n      <th>wind_speed</th>\n    </tr>\n  </thead>\n  <tbody>\n    <tr>\n      <th>0</th>\n      <td>0</td>\n      <td>2016-04-01 00:00:00</td>\n      <td>Methylosmolene</td>\n      <td>1</td>\n      <td>0.417423</td>\n      <td>190.500000</td>\n      <td>4.000000</td>\n    </tr>\n    <tr>\n      <th>1</th>\n      <td>1</td>\n      <td>2016-04-01 00:00:00</td>\n      <td>Chlorodinine</td>\n      <td>1</td>\n      <td>0.382308</td>\n      <td>190.500000</td>\n      <td>4.000000</td>\n    </tr>\n    <tr>\n      <th>2</th>\n      <td>2</td>\n      <td>2016-04-01 00:00:00</td>\n      <td>AGOC-3A</td>\n      <td>1</td>\n      <td>0.160462</td>\n      <td>190.500000</td>\n      <td>4.000000</td>\n    </tr>\n    <tr>\n      <th>3</th>\n      <td>3</td>\n      <td>2016-04-01 00:00:00</td>\n      <td>Appluimonia</td>\n      <td>1</td>\n      <td>0.003093</td>\n      <td>190.500000</td>\n      <td>4.000000</td>\n    </tr>\n    <tr>\n      <th>4</th>\n      <td>4</td>\n      <td>2016-04-01 01:00:00</td>\n      <td>Methylosmolene</td>\n      <td>1</td>\n      <td>0.381961</td>\n      <td>194.766667</td>\n      <td>4.333333</td>\n    </tr>\n    <tr>\n      <th>5</th>\n      <td>5</td>\n      <td>2016-04-01 01:00:00</td>\n      <td>Chlorodinine</td>\n      <td>1</td>\n      <td>0.325122</td>\n      <td>194.766667</td>\n      <td>4.333333</td>\n    </tr>\n    <tr>\n      <th>6</th>\n      <td>6</td>\n      <td>2016-04-01 01:00:00</td>\n      <td>AGOC-3A</td>\n      <td>1</td>\n      <td>0.065606</td>\n      <td>194.766667</td>\n      <td>4.333333</td>\n    </tr>\n    <tr>\n      <th>7</th>\n      <td>7</td>\n      <td>2016-04-01 01:00:00</td>\n      <td>Appluimonia</td>\n      <td>1</td>\n      <td>0.009519</td>\n      <td>194.766667</td>\n      <td>4.333333</td>\n    </tr>\n    <tr>\n      <th>8</th>\n      <td>8</td>\n      <td>2016-04-01 02:00:00</td>\n      <td>Chlorodinine</td>\n      <td>1</td>\n      <td>0.326390</td>\n      <td>199.033333</td>\n      <td>4.666667</td>\n    </tr>\n    <tr>\n      <th>9</th>\n      <td>9</td>\n      <td>2016-04-01 02:00:00</td>\n      <td>AGOC-3A</td>\n      <td>1</td>\n      <td>0.203970</td>\n      <td>199.033333</td>\n      <td>4.666667</td>\n    </tr>\n    <tr>\n      <th>10</th>\n      <td>10</td>\n      <td>2016-04-01 02:00:00</td>\n      <td>Appluimonia</td>\n      <td>1</td>\n      <td>0.098335</td>\n      <td>199.033333</td>\n      <td>4.666667</td>\n    </tr>\n    <tr>\n      <th>11</th>\n      <td>11</td>\n      <td>2016-04-01 02:00:00</td>\n      <td>Methylosmolene</td>\n      <td>1</td>\n      <td>0.037844</td>\n      <td>199.033333</td>\n      <td>4.666667</td>\n    </tr>\n    <tr>\n      <th>12</th>\n      <td>12</td>\n      <td>2016-04-01 03:00:00</td>\n      <td>Chlorodinine</td>\n      <td>1</td>\n      <td>0.357711</td>\n      <td>203.300000</td>\n      <td>5.000000</td>\n    </tr>\n    <tr>\n      <th>13</th>\n      <td>13</td>\n      <td>2016-04-01 03:00:00</td>\n      <td>Methylosmolene</td>\n      <td>1</td>\n      <td>0.353672</td>\n      <td>203.300000</td>\n      <td>5.000000</td>\n    </tr>\n    <tr>\n      <th>14</th>\n      <td>14</td>\n      <td>2016-04-01 03:00:00</td>\n      <td>Appluimonia</td>\n      <td>1</td>\n      <td>0.288575</td>\n      <td>203.300000</td>\n      <td>5.000000</td>\n    </tr>\n    <tr>\n      <th>15</th>\n      <td>15</td>\n      <td>2016-04-01 03:00:00</td>\n      <td>AGOC-3A</td>\n      <td>1</td>\n      <td>0.089529</td>\n      <td>203.300000</td>\n      <td>5.000000</td>\n    </tr>\n    <tr>\n      <th>16</th>\n      <td>16</td>\n      <td>2016-04-01 04:00:00</td>\n      <td>AGOC-3A</td>\n      <td>1</td>\n      <td>0.618398</td>\n      <td>202.566667</td>\n      <td>5.066667</td>\n    </tr>\n    <tr>\n      <th>17</th>\n      <td>17</td>\n      <td>2016-04-01 04:00:00</td>\n      <td>Appluimonia</td>\n      <td>1</td>\n      <td>0.331950</td>\n      <td>202.566667</td>\n      <td>5.066667</td>\n    </tr>\n    <tr>\n      <th>18</th>\n      <td>18</td>\n      <td>2016-04-01 04:00:00</td>\n      <td>Methylosmolene</td>\n      <td>1</td>\n      <td>0.284877</td>\n      <td>202.566667</td>\n      <td>5.066667</td>\n    </tr>\n    <tr>\n      <th>19</th>\n      <td>19</td>\n      <td>2016-04-01 04:00:00</td>\n      <td>Chlorodinine</td>\n      <td>1</td>\n      <td>0.117581</td>\n      <td>202.566667</td>\n      <td>5.066667</td>\n    </tr>\n    <tr>\n      <th>20</th>\n      <td>20</td>\n      <td>2016-04-01 05:00:00</td>\n      <td>Methylosmolene</td>\n      <td>1</td>\n      <td>0.989826</td>\n      <td>201.833333</td>\n      <td>5.133333</td>\n    </tr>\n    <tr>\n      <th>21</th>\n      <td>21</td>\n      <td>2016-04-01 05:00:00</td>\n      <td>AGOC-3A</td>\n      <td>1</td>\n      <td>0.294556</td>\n      <td>201.833333</td>\n      <td>5.133333</td>\n    </tr>\n    <tr>\n      <th>22</th>\n      <td>22</td>\n      <td>2016-04-01 05:00:00</td>\n      <td>Chlorodinine</td>\n      <td>1</td>\n      <td>0.108269</td>\n      <td>201.833333</td>\n      <td>5.133333</td>\n    </tr>\n    <tr>\n      <th>23</th>\n      <td>23</td>\n      <td>2016-04-01 05:00:00</td>\n      <td>Appluimonia</td>\n      <td>1</td>\n      <td>0.038884</td>\n      <td>201.833333</td>\n      <td>5.133333</td>\n    </tr>\n    <tr>\n      <th>24</th>\n      <td>24</td>\n      <td>2016-04-01 06:00:00</td>\n      <td>Chlorodinine</td>\n      <td>1</td>\n      <td>0.321790</td>\n      <td>201.100000</td>\n      <td>5.200000</td>\n    </tr>\n    <tr>\n      <th>25</th>\n      <td>25</td>\n      <td>2016-04-01 06:00:00</td>\n      <td>Methylosmolene</td>\n      <td>1</td>\n      <td>0.250966</td>\n      <td>201.100000</td>\n      <td>5.200000</td>\n    </tr>\n    <tr>\n      <th>26</th>\n      <td>26</td>\n      <td>2016-04-01 06:00:00</td>\n      <td>AGOC-3A</td>\n      <td>1</td>\n      <td>0.210431</td>\n      <td>201.100000</td>\n      <td>5.200000</td>\n    </tr>\n    <tr>\n      <th>27</th>\n      <td>27</td>\n      <td>2016-04-01 06:00:00</td>\n      <td>Appluimonia</td>\n      <td>1</td>\n      <td>0.022891</td>\n      <td>201.100000</td>\n      <td>5.200000</td>\n    </tr>\n    <tr>\n      <th>28</th>\n      <td>28</td>\n      <td>2016-04-01 07:00:00</td>\n      <td>AGOC-3A</td>\n      <td>1</td>\n      <td>0.271824</td>\n      <td>202.366667</td>\n      <td>4.833333</td>\n    </tr>\n    <tr>\n      <th>29</th>\n      <td>29</td>\n      <td>2016-04-01 07:00:00</td>\n      <td>Chlorodinine</td>\n      <td>1</td>\n      <td>0.188189</td>\n      <td>202.366667</td>\n      <td>4.833333</td>\n    </tr>\n    <tr>\n      <th>...</th>\n      <td>...</td>\n      <td>...</td>\n      <td>...</td>\n      <td>...</td>\n      <td>...</td>\n      <td>...</td>\n      <td>...</td>\n    </tr>\n    <tr>\n      <th>8774</th>\n      <td>8774</td>\n      <td>2016-12-31 16:00:00</td>\n      <td>Appluimonia</td>\n      <td>1</td>\n      <td>0.105685</td>\n      <td>197.066667</td>\n      <td>2.366667</td>\n    </tr>\n    <tr>\n      <th>8775</th>\n      <td>8775</td>\n      <td>2016-12-31 16:00:00</td>\n      <td>Chlorodinine</td>\n      <td>1</td>\n      <td>0.074562</td>\n      <td>197.066667</td>\n      <td>2.366667</td>\n    </tr>\n    <tr>\n      <th>8776</th>\n      <td>8776</td>\n      <td>2016-12-31 17:00:00</td>\n      <td>Appluimonia</td>\n      <td>1</td>\n      <td>0.518556</td>\n      <td>187.033333</td>\n      <td>2.833333</td>\n    </tr>\n    <tr>\n      <th>8777</th>\n      <td>8777</td>\n      <td>2016-12-31 17:00:00</td>\n      <td>Chlorodinine</td>\n      <td>1</td>\n      <td>0.461966</td>\n      <td>187.033333</td>\n      <td>2.833333</td>\n    </tr>\n    <tr>\n      <th>8778</th>\n      <td>8778</td>\n      <td>2016-12-31 17:00:00</td>\n      <td>AGOC-3A</td>\n      <td>1</td>\n      <td>0.456474</td>\n      <td>187.033333</td>\n      <td>2.833333</td>\n    </tr>\n    <tr>\n      <th>8779</th>\n      <td>8779</td>\n      <td>2016-12-31 17:00:00</td>\n      <td>Methylosmolene</td>\n      <td>1</td>\n      <td>0.411362</td>\n      <td>187.033333</td>\n      <td>2.833333</td>\n    </tr>\n    <tr>\n      <th>8780</th>\n      <td>8780</td>\n      <td>2016-12-31 18:00:00</td>\n      <td>AGOC-3A</td>\n      <td>1</td>\n      <td>0.292933</td>\n      <td>177.000000</td>\n      <td>3.300000</td>\n    </tr>\n    <tr>\n      <th>8781</th>\n      <td>8781</td>\n      <td>2016-12-31 18:00:00</td>\n      <td>Methylosmolene</td>\n      <td>1</td>\n      <td>0.091218</td>\n      <td>177.000000</td>\n      <td>3.300000</td>\n    </tr>\n    <tr>\n      <th>8782</th>\n      <td>8782</td>\n      <td>2016-12-31 18:00:00</td>\n      <td>Chlorodinine</td>\n      <td>1</td>\n      <td>0.064684</td>\n      <td>177.000000</td>\n      <td>3.300000</td>\n    </tr>\n    <tr>\n      <th>8783</th>\n      <td>8783</td>\n      <td>2016-12-31 18:00:00</td>\n      <td>Appluimonia</td>\n      <td>1</td>\n      <td>0.018963</td>\n      <td>177.000000</td>\n      <td>3.300000</td>\n    </tr>\n    <tr>\n      <th>8784</th>\n      <td>8784</td>\n      <td>2016-12-31 19:00:00</td>\n      <td>AGOC-3A</td>\n      <td>1</td>\n      <td>0.727914</td>\n      <td>171.666667</td>\n      <td>3.366667</td>\n    </tr>\n    <tr>\n      <th>8785</th>\n      <td>8785</td>\n      <td>2016-12-31 19:00:00</td>\n      <td>Chlorodinine</td>\n      <td>1</td>\n      <td>0.373937</td>\n      <td>171.666667</td>\n      <td>3.366667</td>\n    </tr>\n    <tr>\n      <th>8786</th>\n      <td>8786</td>\n      <td>2016-12-31 19:00:00</td>\n      <td>Methylosmolene</td>\n      <td>1</td>\n      <td>0.241271</td>\n      <td>171.666667</td>\n      <td>3.366667</td>\n    </tr>\n    <tr>\n      <th>8787</th>\n      <td>8787</td>\n      <td>2016-12-31 19:00:00</td>\n      <td>Appluimonia</td>\n      <td>1</td>\n      <td>0.022529</td>\n      <td>171.666667</td>\n      <td>3.366667</td>\n    </tr>\n    <tr>\n      <th>8788</th>\n      <td>8788</td>\n      <td>2016-12-31 20:00:00</td>\n      <td>Chlorodinine</td>\n      <td>1</td>\n      <td>0.217733</td>\n      <td>166.333333</td>\n      <td>3.433333</td>\n    </tr>\n    <tr>\n      <th>8789</th>\n      <td>8789</td>\n      <td>2016-12-31 20:00:00</td>\n      <td>Appluimonia</td>\n      <td>1</td>\n      <td>0.217195</td>\n      <td>166.333333</td>\n      <td>3.433333</td>\n    </tr>\n    <tr>\n      <th>8790</th>\n      <td>8790</td>\n      <td>2016-12-31 20:00:00</td>\n      <td>Methylosmolene</td>\n      <td>1</td>\n      <td>0.099621</td>\n      <td>166.333333</td>\n      <td>3.433333</td>\n    </tr>\n    <tr>\n      <th>8791</th>\n      <td>8791</td>\n      <td>2016-12-31 20:00:00</td>\n      <td>AGOC-3A</td>\n      <td>1</td>\n      <td>0.027665</td>\n      <td>166.333333</td>\n      <td>3.433333</td>\n    </tr>\n    <tr>\n      <th>8792</th>\n      <td>8792</td>\n      <td>2016-12-31 21:00:00</td>\n      <td>Chlorodinine</td>\n      <td>1</td>\n      <td>0.383960</td>\n      <td>161.000000</td>\n      <td>3.500000</td>\n    </tr>\n    <tr>\n      <th>8793</th>\n      <td>8793</td>\n      <td>2016-12-31 21:00:00</td>\n      <td>AGOC-3A</td>\n      <td>1</td>\n      <td>0.277434</td>\n      <td>161.000000</td>\n      <td>3.500000</td>\n    </tr>\n    <tr>\n      <th>8794</th>\n      <td>8794</td>\n      <td>2016-12-31 21:00:00</td>\n      <td>Methylosmolene</td>\n      <td>1</td>\n      <td>0.134625</td>\n      <td>161.000000</td>\n      <td>3.500000</td>\n    </tr>\n    <tr>\n      <th>8795</th>\n      <td>8795</td>\n      <td>2016-12-31 21:00:00</td>\n      <td>Appluimonia</td>\n      <td>1</td>\n      <td>0.015057</td>\n      <td>161.000000</td>\n      <td>3.500000</td>\n    </tr>\n    <tr>\n      <th>8796</th>\n      <td>8796</td>\n      <td>2016-12-31 22:00:00</td>\n      <td>Chlorodinine</td>\n      <td>1</td>\n      <td>0.575088</td>\n      <td>161.000000</td>\n      <td>3.500000</td>\n    </tr>\n    <tr>\n      <th>8797</th>\n      <td>8797</td>\n      <td>2016-12-31 22:00:00</td>\n      <td>AGOC-3A</td>\n      <td>1</td>\n      <td>0.468190</td>\n      <td>161.000000</td>\n      <td>3.500000</td>\n    </tr>\n    <tr>\n      <th>8798</th>\n      <td>8798</td>\n      <td>2016-12-31 22:00:00</td>\n      <td>Methylosmolene</td>\n      <td>1</td>\n      <td>0.142909</td>\n      <td>161.000000</td>\n      <td>3.500000</td>\n    </tr>\n    <tr>\n      <th>8799</th>\n      <td>8799</td>\n      <td>2016-12-31 22:00:00</td>\n      <td>Appluimonia</td>\n      <td>1</td>\n      <td>0.005311</td>\n      <td>161.000000</td>\n      <td>3.500000</td>\n    </tr>\n    <tr>\n      <th>8800</th>\n      <td>8800</td>\n      <td>2016-12-31 23:00:00</td>\n      <td>Methylosmolene</td>\n      <td>1</td>\n      <td>0.376994</td>\n      <td>161.000000</td>\n      <td>3.500000</td>\n    </tr>\n    <tr>\n      <th>8801</th>\n      <td>8801</td>\n      <td>2016-12-31 23:00:00</td>\n      <td>Chlorodinine</td>\n      <td>1</td>\n      <td>0.309137</td>\n      <td>161.000000</td>\n      <td>3.500000</td>\n    </tr>\n    <tr>\n      <th>8802</th>\n      <td>8802</td>\n      <td>2016-12-31 23:00:00</td>\n      <td>Appluimonia</td>\n      <td>1</td>\n      <td>0.258800</td>\n      <td>161.000000</td>\n      <td>3.500000</td>\n    </tr>\n    <tr>\n      <th>8803</th>\n      <td>8803</td>\n      <td>2016-12-31 23:00:00</td>\n      <td>AGOC-3A</td>\n      <td>1</td>\n      <td>0.078266</td>\n      <td>161.000000</td>\n      <td>3.500000</td>\n    </tr>\n  </tbody>\n</table>\n<p>8804 rows × 7 columns</p>\n</div>",
      "text/plain": [
       "      Unnamed: 0                 date        chemical  monitor   reading  \\\n",
       "0              0  2016-04-01 00:00:00  Methylosmolene        1  0.417423   \n",
       "1              1  2016-04-01 00:00:00    Chlorodinine        1  0.382308   \n",
       "2              2  2016-04-01 00:00:00         AGOC-3A        1  0.160462   \n",
       "3              3  2016-04-01 00:00:00     Appluimonia        1  0.003093   \n",
       "4              4  2016-04-01 01:00:00  Methylosmolene        1  0.381961   \n",
       "5              5  2016-04-01 01:00:00    Chlorodinine        1  0.325122   \n",
       "6              6  2016-04-01 01:00:00         AGOC-3A        1  0.065606   \n",
       "7              7  2016-04-01 01:00:00     Appluimonia        1  0.009519   \n",
       "8              8  2016-04-01 02:00:00    Chlorodinine        1  0.326390   \n",
       "9              9  2016-04-01 02:00:00         AGOC-3A        1  0.203970   \n",
       "10            10  2016-04-01 02:00:00     Appluimonia        1  0.098335   \n",
       "11            11  2016-04-01 02:00:00  Methylosmolene        1  0.037844   \n",
       "12            12  2016-04-01 03:00:00    Chlorodinine        1  0.357711   \n",
       "13            13  2016-04-01 03:00:00  Methylosmolene        1  0.353672   \n",
       "14            14  2016-04-01 03:00:00     Appluimonia        1  0.288575   \n",
       "15            15  2016-04-01 03:00:00         AGOC-3A        1  0.089529   \n",
       "16            16  2016-04-01 04:00:00         AGOC-3A        1  0.618398   \n",
       "17            17  2016-04-01 04:00:00     Appluimonia        1  0.331950   \n",
       "18            18  2016-04-01 04:00:00  Methylosmolene        1  0.284877   \n",
       "19            19  2016-04-01 04:00:00    Chlorodinine        1  0.117581   \n",
       "20            20  2016-04-01 05:00:00  Methylosmolene        1  0.989826   \n",
       "21            21  2016-04-01 05:00:00         AGOC-3A        1  0.294556   \n",
       "22            22  2016-04-01 05:00:00    Chlorodinine        1  0.108269   \n",
       "23            23  2016-04-01 05:00:00     Appluimonia        1  0.038884   \n",
       "24            24  2016-04-01 06:00:00    Chlorodinine        1  0.321790   \n",
       "25            25  2016-04-01 06:00:00  Methylosmolene        1  0.250966   \n",
       "26            26  2016-04-01 06:00:00         AGOC-3A        1  0.210431   \n",
       "27            27  2016-04-01 06:00:00     Appluimonia        1  0.022891   \n",
       "28            28  2016-04-01 07:00:00         AGOC-3A        1  0.271824   \n",
       "29            29  2016-04-01 07:00:00    Chlorodinine        1  0.188189   \n",
       "...          ...                  ...             ...      ...       ...   \n",
       "8774        8774  2016-12-31 16:00:00     Appluimonia        1  0.105685   \n",
       "8775        8775  2016-12-31 16:00:00    Chlorodinine        1  0.074562   \n",
       "8776        8776  2016-12-31 17:00:00     Appluimonia        1  0.518556   \n",
       "8777        8777  2016-12-31 17:00:00    Chlorodinine        1  0.461966   \n",
       "8778        8778  2016-12-31 17:00:00         AGOC-3A        1  0.456474   \n",
       "8779        8779  2016-12-31 17:00:00  Methylosmolene        1  0.411362   \n",
       "8780        8780  2016-12-31 18:00:00         AGOC-3A        1  0.292933   \n",
       "8781        8781  2016-12-31 18:00:00  Methylosmolene        1  0.091218   \n",
       "8782        8782  2016-12-31 18:00:00    Chlorodinine        1  0.064684   \n",
       "8783        8783  2016-12-31 18:00:00     Appluimonia        1  0.018963   \n",
       "8784        8784  2016-12-31 19:00:00         AGOC-3A        1  0.727914   \n",
       "8785        8785  2016-12-31 19:00:00    Chlorodinine        1  0.373937   \n",
       "8786        8786  2016-12-31 19:00:00  Methylosmolene        1  0.241271   \n",
       "8787        8787  2016-12-31 19:00:00     Appluimonia        1  0.022529   \n",
       "8788        8788  2016-12-31 20:00:00    Chlorodinine        1  0.217733   \n",
       "8789        8789  2016-12-31 20:00:00     Appluimonia        1  0.217195   \n",
       "8790        8790  2016-12-31 20:00:00  Methylosmolene        1  0.099621   \n",
       "8791        8791  2016-12-31 20:00:00         AGOC-3A        1  0.027665   \n",
       "8792        8792  2016-12-31 21:00:00    Chlorodinine        1  0.383960   \n",
       "8793        8793  2016-12-31 21:00:00         AGOC-3A        1  0.277434   \n",
       "8794        8794  2016-12-31 21:00:00  Methylosmolene        1  0.134625   \n",
       "8795        8795  2016-12-31 21:00:00     Appluimonia        1  0.015057   \n",
       "8796        8796  2016-12-31 22:00:00    Chlorodinine        1  0.575088   \n",
       "8797        8797  2016-12-31 22:00:00         AGOC-3A        1  0.468190   \n",
       "8798        8798  2016-12-31 22:00:00  Methylosmolene        1  0.142909   \n",
       "8799        8799  2016-12-31 22:00:00     Appluimonia        1  0.005311   \n",
       "8800        8800  2016-12-31 23:00:00  Methylosmolene        1  0.376994   \n",
       "8801        8801  2016-12-31 23:00:00    Chlorodinine        1  0.309137   \n",
       "8802        8802  2016-12-31 23:00:00     Appluimonia        1  0.258800   \n",
       "8803        8803  2016-12-31 23:00:00         AGOC-3A        1  0.078266   \n",
       "\n",
       "      wind_direction  wind_speed  \n",
       "0         190.500000    4.000000  \n",
       "1         190.500000    4.000000  \n",
       "2         190.500000    4.000000  \n",
       "3         190.500000    4.000000  \n",
       "4         194.766667    4.333333  \n",
       "5         194.766667    4.333333  \n",
       "6         194.766667    4.333333  \n",
       "7         194.766667    4.333333  \n",
       "8         199.033333    4.666667  \n",
       "9         199.033333    4.666667  \n",
       "10        199.033333    4.666667  \n",
       "11        199.033333    4.666667  \n",
       "12        203.300000    5.000000  \n",
       "13        203.300000    5.000000  \n",
       "14        203.300000    5.000000  \n",
       "15        203.300000    5.000000  \n",
       "16        202.566667    5.066667  \n",
       "17        202.566667    5.066667  \n",
       "18        202.566667    5.066667  \n",
       "19        202.566667    5.066667  \n",
       "20        201.833333    5.133333  \n",
       "21        201.833333    5.133333  \n",
       "22        201.833333    5.133333  \n",
       "23        201.833333    5.133333  \n",
       "24        201.100000    5.200000  \n",
       "25        201.100000    5.200000  \n",
       "26        201.100000    5.200000  \n",
       "27        201.100000    5.200000  \n",
       "28        202.366667    4.833333  \n",
       "29        202.366667    4.833333  \n",
       "...              ...         ...  \n",
       "8774      197.066667    2.366667  \n",
       "8775      197.066667    2.366667  \n",
       "8776      187.033333    2.833333  \n",
       "8777      187.033333    2.833333  \n",
       "8778      187.033333    2.833333  \n",
       "8779      187.033333    2.833333  \n",
       "8780      177.000000    3.300000  \n",
       "8781      177.000000    3.300000  \n",
       "8782      177.000000    3.300000  \n",
       "8783      177.000000    3.300000  \n",
       "8784      171.666667    3.366667  \n",
       "8785      171.666667    3.366667  \n",
       "8786      171.666667    3.366667  \n",
       "8787      171.666667    3.366667  \n",
       "8788      166.333333    3.433333  \n",
       "8789      166.333333    3.433333  \n",
       "8790      166.333333    3.433333  \n",
       "8791      166.333333    3.433333  \n",
       "8792      161.000000    3.500000  \n",
       "8793      161.000000    3.500000  \n",
       "8794      161.000000    3.500000  \n",
       "8795      161.000000    3.500000  \n",
       "8796      161.000000    3.500000  \n",
       "8797      161.000000    3.500000  \n",
       "8798      161.000000    3.500000  \n",
       "8799      161.000000    3.500000  \n",
       "8800      161.000000    3.500000  \n",
       "8801      161.000000    3.500000  \n",
       "8802      161.000000    3.500000  \n",
       "8803      161.000000    3.500000  \n",
       "\n",
       "[8804 rows x 7 columns]"
      ]
     },
     "metadata": {},
     "execution_count": 4
    }
   ],
   "source": [
    "sensor_1"
   ]
  },
  {
   "cell_type": "code",
   "execution_count": 5,
   "metadata": {},
   "outputs": [],
   "source": [
    "x = sensor_1[['date','chemical','reading']]"
   ]
  },
  {
   "cell_type": "code",
   "execution_count": 6,
   "metadata": {},
   "outputs": [],
   "source": [
    "z = 0\n",
    "for i in range(len(x['date'])):\n",
    "    # print(x['chemical'][i])\n",
    "    z += 1\n"
   ]
  },
  {
   "cell_type": "code",
   "execution_count": 7,
   "metadata": {},
   "outputs": [
    {
     "output_type": "execute_result",
     "data": {
      "text/plain": [
       "8804"
      ]
     },
     "metadata": {},
     "execution_count": 7
    }
   ],
   "source": [
    "z"
   ]
  },
  {
   "cell_type": "code",
   "execution_count": 8,
   "metadata": {},
   "outputs": [],
   "source": [
    "y = x.sort_values(['chemical','date'])"
   ]
  },
  {
   "cell_type": "code",
   "execution_count": 9,
   "metadata": {},
   "outputs": [
    {
     "output_type": "execute_result",
     "data": {
      "text/html": "<div>\n<style scoped>\n    .dataframe tbody tr th:only-of-type {\n        vertical-align: middle;\n    }\n\n    .dataframe tbody tr th {\n        vertical-align: top;\n    }\n\n    .dataframe thead th {\n        text-align: right;\n    }\n</style>\n<table border=\"1\" class=\"dataframe\">\n  <thead>\n    <tr style=\"text-align: right;\">\n      <th></th>\n      <th>chemical</th>\n      <th>date</th>\n      <th>reading</th>\n    </tr>\n  </thead>\n  <tbody>\n    <tr>\n      <th>2</th>\n      <td>AGOC-3A</td>\n      <td>2016-04-01 00:00:00</td>\n      <td>0.160462</td>\n    </tr>\n    <tr>\n      <th>6</th>\n      <td>AGOC-3A</td>\n      <td>2016-04-01 01:00:00</td>\n      <td>0.065606</td>\n    </tr>\n    <tr>\n      <th>9</th>\n      <td>AGOC-3A</td>\n      <td>2016-04-01 02:00:00</td>\n      <td>0.203970</td>\n    </tr>\n    <tr>\n      <th>15</th>\n      <td>AGOC-3A</td>\n      <td>2016-04-01 03:00:00</td>\n      <td>0.089529</td>\n    </tr>\n    <tr>\n      <th>16</th>\n      <td>AGOC-3A</td>\n      <td>2016-04-01 04:00:00</td>\n      <td>0.618398</td>\n    </tr>\n    <tr>\n      <th>21</th>\n      <td>AGOC-3A</td>\n      <td>2016-04-01 05:00:00</td>\n      <td>0.294556</td>\n    </tr>\n    <tr>\n      <th>26</th>\n      <td>AGOC-3A</td>\n      <td>2016-04-01 06:00:00</td>\n      <td>0.210431</td>\n    </tr>\n    <tr>\n      <th>28</th>\n      <td>AGOC-3A</td>\n      <td>2016-04-01 07:00:00</td>\n      <td>0.271824</td>\n    </tr>\n    <tr>\n      <th>35</th>\n      <td>AGOC-3A</td>\n      <td>2016-04-01 08:00:00</td>\n      <td>0.034329</td>\n    </tr>\n    <tr>\n      <th>37</th>\n      <td>AGOC-3A</td>\n      <td>2016-04-01 09:00:00</td>\n      <td>0.270683</td>\n    </tr>\n    <tr>\n      <th>43</th>\n      <td>AGOC-3A</td>\n      <td>2016-04-01 10:00:00</td>\n      <td>0.025184</td>\n    </tr>\n    <tr>\n      <th>47</th>\n      <td>AGOC-3A</td>\n      <td>2016-04-01 11:00:00</td>\n      <td>0.066964</td>\n    </tr>\n    <tr>\n      <th>48</th>\n      <td>AGOC-3A</td>\n      <td>2016-04-01 12:00:00</td>\n      <td>0.469625</td>\n    </tr>\n    <tr>\n      <th>52</th>\n      <td>AGOC-3A</td>\n      <td>2016-04-01 13:00:00</td>\n      <td>0.271808</td>\n    </tr>\n    <tr>\n      <th>59</th>\n      <td>AGOC-3A</td>\n      <td>2016-04-01 14:00:00</td>\n      <td>0.030660</td>\n    </tr>\n    <tr>\n      <th>60</th>\n      <td>AGOC-3A</td>\n      <td>2016-04-01 15:00:00</td>\n      <td>0.266658</td>\n    </tr>\n    <tr>\n      <th>66</th>\n      <td>AGOC-3A</td>\n      <td>2016-04-01 16:00:00</td>\n      <td>0.271123</td>\n    </tr>\n    <tr>\n      <th>70</th>\n      <td>AGOC-3A</td>\n      <td>2016-04-01 17:00:00</td>\n      <td>0.176284</td>\n    </tr>\n    <tr>\n      <th>75</th>\n      <td>AGOC-3A</td>\n      <td>2016-04-01 18:00:00</td>\n      <td>0.098690</td>\n    </tr>\n    <tr>\n      <th>78</th>\n      <td>AGOC-3A</td>\n      <td>2016-04-01 19:00:00</td>\n      <td>0.078950</td>\n    </tr>\n    <tr>\n      <th>80</th>\n      <td>AGOC-3A</td>\n      <td>2016-04-01 20:00:00</td>\n      <td>0.491511</td>\n    </tr>\n    <tr>\n      <th>86</th>\n      <td>AGOC-3A</td>\n      <td>2016-04-01 21:00:00</td>\n      <td>0.038524</td>\n    </tr>\n    <tr>\n      <th>91</th>\n      <td>AGOC-3A</td>\n      <td>2016-04-01 22:00:00</td>\n      <td>0.161849</td>\n    </tr>\n    <tr>\n      <th>93</th>\n      <td>AGOC-3A</td>\n      <td>2016-04-01 23:00:00</td>\n      <td>0.404146</td>\n    </tr>\n    <tr>\n      <th>98</th>\n      <td>AGOC-3A</td>\n      <td>2016-04-02 01:00:00</td>\n      <td>0.419144</td>\n    </tr>\n    <tr>\n      <th>101</th>\n      <td>AGOC-3A</td>\n      <td>2016-04-02 02:00:00</td>\n      <td>0.219546</td>\n    </tr>\n    <tr>\n      <th>105</th>\n      <td>AGOC-3A</td>\n      <td>2016-04-02 03:00:00</td>\n      <td>0.295875</td>\n    </tr>\n    <tr>\n      <th>110</th>\n      <td>AGOC-3A</td>\n      <td>2016-04-02 04:00:00</td>\n      <td>0.046657</td>\n    </tr>\n    <tr>\n      <th>114</th>\n      <td>AGOC-3A</td>\n      <td>2016-04-02 05:00:00</td>\n      <td>0.034147</td>\n    </tr>\n    <tr>\n      <th>116</th>\n      <td>AGOC-3A</td>\n      <td>2016-04-02 06:00:00</td>\n      <td>0.297750</td>\n    </tr>\n    <tr>\n      <th>...</th>\n      <td>...</td>\n      <td>...</td>\n      <td>...</td>\n    </tr>\n    <tr>\n      <th>8684</th>\n      <td>Methylosmolene</td>\n      <td>2016-12-30 18:00:00</td>\n      <td>0.155927</td>\n    </tr>\n    <tr>\n      <th>8689</th>\n      <td>Methylosmolene</td>\n      <td>2016-12-30 19:00:00</td>\n      <td>0.331487</td>\n    </tr>\n    <tr>\n      <th>8694</th>\n      <td>Methylosmolene</td>\n      <td>2016-12-30 20:00:00</td>\n      <td>0.221853</td>\n    </tr>\n    <tr>\n      <th>8699</th>\n      <td>Methylosmolene</td>\n      <td>2016-12-30 21:00:00</td>\n      <td>0.092087</td>\n    </tr>\n    <tr>\n      <th>8701</th>\n      <td>Methylosmolene</td>\n      <td>2016-12-30 22:00:00</td>\n      <td>0.181699</td>\n    </tr>\n    <tr>\n      <th>8704</th>\n      <td>Methylosmolene</td>\n      <td>2016-12-30 23:00:00</td>\n      <td>0.338371</td>\n    </tr>\n    <tr>\n      <th>8710</th>\n      <td>Methylosmolene</td>\n      <td>2016-12-31 00:00:00</td>\n      <td>0.243968</td>\n    </tr>\n    <tr>\n      <th>8713</th>\n      <td>Methylosmolene</td>\n      <td>2016-12-31 01:00:00</td>\n      <td>0.117628</td>\n    </tr>\n    <tr>\n      <th>8718</th>\n      <td>Methylosmolene</td>\n      <td>2016-12-31 02:00:00</td>\n      <td>0.259486</td>\n    </tr>\n    <tr>\n      <th>8721</th>\n      <td>Methylosmolene</td>\n      <td>2016-12-31 03:00:00</td>\n      <td>0.379888</td>\n    </tr>\n    <tr>\n      <th>8725</th>\n      <td>Methylosmolene</td>\n      <td>2016-12-31 04:00:00</td>\n      <td>0.204918</td>\n    </tr>\n    <tr>\n      <th>8728</th>\n      <td>Methylosmolene</td>\n      <td>2016-12-31 05:00:00</td>\n      <td>0.231347</td>\n    </tr>\n    <tr>\n      <th>8732</th>\n      <td>Methylosmolene</td>\n      <td>2016-12-31 06:00:00</td>\n      <td>0.487331</td>\n    </tr>\n    <tr>\n      <th>8738</th>\n      <td>Methylosmolene</td>\n      <td>2016-12-31 07:00:00</td>\n      <td>0.199518</td>\n    </tr>\n    <tr>\n      <th>8743</th>\n      <td>Methylosmolene</td>\n      <td>2016-12-31 08:00:00</td>\n      <td>0.019032</td>\n    </tr>\n    <tr>\n      <th>8747</th>\n      <td>Methylosmolene</td>\n      <td>2016-12-31 09:00:00</td>\n      <td>0.020319</td>\n    </tr>\n    <tr>\n      <th>8750</th>\n      <td>Methylosmolene</td>\n      <td>2016-12-31 10:00:00</td>\n      <td>0.121592</td>\n    </tr>\n    <tr>\n      <th>8753</th>\n      <td>Methylosmolene</td>\n      <td>2016-12-31 11:00:00</td>\n      <td>0.332559</td>\n    </tr>\n    <tr>\n      <th>8757</th>\n      <td>Methylosmolene</td>\n      <td>2016-12-31 12:00:00</td>\n      <td>0.311113</td>\n    </tr>\n    <tr>\n      <th>8760</th>\n      <td>Methylosmolene</td>\n      <td>2016-12-31 13:00:00</td>\n      <td>0.289842</td>\n    </tr>\n    <tr>\n      <th>8765</th>\n      <td>Methylosmolene</td>\n      <td>2016-12-31 14:00:00</td>\n      <td>0.164042</td>\n    </tr>\n    <tr>\n      <th>8769</th>\n      <td>Methylosmolene</td>\n      <td>2016-12-31 15:00:00</td>\n      <td>0.335220</td>\n    </tr>\n    <tr>\n      <th>8772</th>\n      <td>Methylosmolene</td>\n      <td>2016-12-31 16:00:00</td>\n      <td>0.201706</td>\n    </tr>\n    <tr>\n      <th>8779</th>\n      <td>Methylosmolene</td>\n      <td>2016-12-31 17:00:00</td>\n      <td>0.411362</td>\n    </tr>\n    <tr>\n      <th>8781</th>\n      <td>Methylosmolene</td>\n      <td>2016-12-31 18:00:00</td>\n      <td>0.091218</td>\n    </tr>\n    <tr>\n      <th>8786</th>\n      <td>Methylosmolene</td>\n      <td>2016-12-31 19:00:00</td>\n      <td>0.241271</td>\n    </tr>\n    <tr>\n      <th>8790</th>\n      <td>Methylosmolene</td>\n      <td>2016-12-31 20:00:00</td>\n      <td>0.099621</td>\n    </tr>\n    <tr>\n      <th>8794</th>\n      <td>Methylosmolene</td>\n      <td>2016-12-31 21:00:00</td>\n      <td>0.134625</td>\n    </tr>\n    <tr>\n      <th>8798</th>\n      <td>Methylosmolene</td>\n      <td>2016-12-31 22:00:00</td>\n      <td>0.142909</td>\n    </tr>\n    <tr>\n      <th>8800</th>\n      <td>Methylosmolene</td>\n      <td>2016-12-31 23:00:00</td>\n      <td>0.376994</td>\n    </tr>\n  </tbody>\n</table>\n<p>8804 rows × 3 columns</p>\n</div>",
      "text/plain": [
       "            chemical                 date   reading\n",
       "2            AGOC-3A  2016-04-01 00:00:00  0.160462\n",
       "6            AGOC-3A  2016-04-01 01:00:00  0.065606\n",
       "9            AGOC-3A  2016-04-01 02:00:00  0.203970\n",
       "15           AGOC-3A  2016-04-01 03:00:00  0.089529\n",
       "16           AGOC-3A  2016-04-01 04:00:00  0.618398\n",
       "21           AGOC-3A  2016-04-01 05:00:00  0.294556\n",
       "26           AGOC-3A  2016-04-01 06:00:00  0.210431\n",
       "28           AGOC-3A  2016-04-01 07:00:00  0.271824\n",
       "35           AGOC-3A  2016-04-01 08:00:00  0.034329\n",
       "37           AGOC-3A  2016-04-01 09:00:00  0.270683\n",
       "43           AGOC-3A  2016-04-01 10:00:00  0.025184\n",
       "47           AGOC-3A  2016-04-01 11:00:00  0.066964\n",
       "48           AGOC-3A  2016-04-01 12:00:00  0.469625\n",
       "52           AGOC-3A  2016-04-01 13:00:00  0.271808\n",
       "59           AGOC-3A  2016-04-01 14:00:00  0.030660\n",
       "60           AGOC-3A  2016-04-01 15:00:00  0.266658\n",
       "66           AGOC-3A  2016-04-01 16:00:00  0.271123\n",
       "70           AGOC-3A  2016-04-01 17:00:00  0.176284\n",
       "75           AGOC-3A  2016-04-01 18:00:00  0.098690\n",
       "78           AGOC-3A  2016-04-01 19:00:00  0.078950\n",
       "80           AGOC-3A  2016-04-01 20:00:00  0.491511\n",
       "86           AGOC-3A  2016-04-01 21:00:00  0.038524\n",
       "91           AGOC-3A  2016-04-01 22:00:00  0.161849\n",
       "93           AGOC-3A  2016-04-01 23:00:00  0.404146\n",
       "98           AGOC-3A  2016-04-02 01:00:00  0.419144\n",
       "101          AGOC-3A  2016-04-02 02:00:00  0.219546\n",
       "105          AGOC-3A  2016-04-02 03:00:00  0.295875\n",
       "110          AGOC-3A  2016-04-02 04:00:00  0.046657\n",
       "114          AGOC-3A  2016-04-02 05:00:00  0.034147\n",
       "116          AGOC-3A  2016-04-02 06:00:00  0.297750\n",
       "...              ...                  ...       ...\n",
       "8684  Methylosmolene  2016-12-30 18:00:00  0.155927\n",
       "8689  Methylosmolene  2016-12-30 19:00:00  0.331487\n",
       "8694  Methylosmolene  2016-12-30 20:00:00  0.221853\n",
       "8699  Methylosmolene  2016-12-30 21:00:00  0.092087\n",
       "8701  Methylosmolene  2016-12-30 22:00:00  0.181699\n",
       "8704  Methylosmolene  2016-12-30 23:00:00  0.338371\n",
       "8710  Methylosmolene  2016-12-31 00:00:00  0.243968\n",
       "8713  Methylosmolene  2016-12-31 01:00:00  0.117628\n",
       "8718  Methylosmolene  2016-12-31 02:00:00  0.259486\n",
       "8721  Methylosmolene  2016-12-31 03:00:00  0.379888\n",
       "8725  Methylosmolene  2016-12-31 04:00:00  0.204918\n",
       "8728  Methylosmolene  2016-12-31 05:00:00  0.231347\n",
       "8732  Methylosmolene  2016-12-31 06:00:00  0.487331\n",
       "8738  Methylosmolene  2016-12-31 07:00:00  0.199518\n",
       "8743  Methylosmolene  2016-12-31 08:00:00  0.019032\n",
       "8747  Methylosmolene  2016-12-31 09:00:00  0.020319\n",
       "8750  Methylosmolene  2016-12-31 10:00:00  0.121592\n",
       "8753  Methylosmolene  2016-12-31 11:00:00  0.332559\n",
       "8757  Methylosmolene  2016-12-31 12:00:00  0.311113\n",
       "8760  Methylosmolene  2016-12-31 13:00:00  0.289842\n",
       "8765  Methylosmolene  2016-12-31 14:00:00  0.164042\n",
       "8769  Methylosmolene  2016-12-31 15:00:00  0.335220\n",
       "8772  Methylosmolene  2016-12-31 16:00:00  0.201706\n",
       "8779  Methylosmolene  2016-12-31 17:00:00  0.411362\n",
       "8781  Methylosmolene  2016-12-31 18:00:00  0.091218\n",
       "8786  Methylosmolene  2016-12-31 19:00:00  0.241271\n",
       "8790  Methylosmolene  2016-12-31 20:00:00  0.099621\n",
       "8794  Methylosmolene  2016-12-31 21:00:00  0.134625\n",
       "8798  Methylosmolene  2016-12-31 22:00:00  0.142909\n",
       "8800  Methylosmolene  2016-12-31 23:00:00  0.376994\n",
       "\n",
       "[8804 rows x 3 columns]"
      ]
     },
     "metadata": {},
     "execution_count": 9
    }
   ],
   "source": [
    "y[['chemical','date','reading']]"
   ]
  },
  {
   "cell_type": "code",
   "execution_count": 10,
   "metadata": {},
   "outputs": [
    {
     "output_type": "execute_result",
     "data": {
      "text/plain": [
       "'2016-04-01 00:00:00'"
      ]
     },
     "metadata": {},
     "execution_count": 10
    }
   ],
   "source": [
    "y.loc[0]['date']"
   ]
  },
  {
   "cell_type": "code",
   "execution_count": 11,
   "metadata": {},
   "outputs": [
    {
     "output_type": "execute_result",
     "data": {
      "text/plain": [
       "2      2016-04-01 00:00:00\n",
       "6      2016-04-01 01:00:00\n",
       "9      2016-04-01 02:00:00\n",
       "15     2016-04-01 03:00:00\n",
       "16     2016-04-01 04:00:00\n",
       "21     2016-04-01 05:00:00\n",
       "26     2016-04-01 06:00:00\n",
       "28     2016-04-01 07:00:00\n",
       "35     2016-04-01 08:00:00\n",
       "37     2016-04-01 09:00:00\n",
       "43     2016-04-01 10:00:00\n",
       "47     2016-04-01 11:00:00\n",
       "48     2016-04-01 12:00:00\n",
       "52     2016-04-01 13:00:00\n",
       "59     2016-04-01 14:00:00\n",
       "60     2016-04-01 15:00:00\n",
       "66     2016-04-01 16:00:00\n",
       "70     2016-04-01 17:00:00\n",
       "75     2016-04-01 18:00:00\n",
       "78     2016-04-01 19:00:00\n",
       "80     2016-04-01 20:00:00\n",
       "86     2016-04-01 21:00:00\n",
       "91     2016-04-01 22:00:00\n",
       "93     2016-04-01 23:00:00\n",
       "98     2016-04-02 01:00:00\n",
       "101    2016-04-02 02:00:00\n",
       "105    2016-04-02 03:00:00\n",
       "110    2016-04-02 04:00:00\n",
       "114    2016-04-02 05:00:00\n",
       "116    2016-04-02 06:00:00\n",
       "               ...        \n",
       "8684   2016-12-30 18:00:00\n",
       "8689   2016-12-30 19:00:00\n",
       "8694   2016-12-30 20:00:00\n",
       "8699   2016-12-30 21:00:00\n",
       "8701   2016-12-30 22:00:00\n",
       "8704   2016-12-30 23:00:00\n",
       "8710   2016-12-31 00:00:00\n",
       "8713   2016-12-31 01:00:00\n",
       "8718   2016-12-31 02:00:00\n",
       "8721   2016-12-31 03:00:00\n",
       "8725   2016-12-31 04:00:00\n",
       "8728   2016-12-31 05:00:00\n",
       "8732   2016-12-31 06:00:00\n",
       "8738   2016-12-31 07:00:00\n",
       "8743   2016-12-31 08:00:00\n",
       "8747   2016-12-31 09:00:00\n",
       "8750   2016-12-31 10:00:00\n",
       "8753   2016-12-31 11:00:00\n",
       "8757   2016-12-31 12:00:00\n",
       "8760   2016-12-31 13:00:00\n",
       "8765   2016-12-31 14:00:00\n",
       "8769   2016-12-31 15:00:00\n",
       "8772   2016-12-31 16:00:00\n",
       "8779   2016-12-31 17:00:00\n",
       "8781   2016-12-31 18:00:00\n",
       "8786   2016-12-31 19:00:00\n",
       "8790   2016-12-31 20:00:00\n",
       "8794   2016-12-31 21:00:00\n",
       "8798   2016-12-31 22:00:00\n",
       "8800   2016-12-31 23:00:00\n",
       "Name: date, Length: 8804, dtype: datetime64[ns]"
      ]
     },
     "metadata": {},
     "execution_count": 11
    }
   ],
   "source": [
    "pd.to_datetime(y['date'])"
   ]
  },
  {
   "cell_type": "code",
   "execution_count": 12,
   "metadata": {},
   "outputs": [],
   "source": [
    "y['date'] = pd.to_datetime(y['date'])"
   ]
  },
  {
   "cell_type": "code",
   "execution_count": 13,
   "metadata": {},
   "outputs": [
    {
     "output_type": "execute_result",
     "data": {
      "text/plain": [
       "pandas._libs.tslibs.timestamps.Timestamp"
      ]
     },
     "metadata": {},
     "execution_count": 13
    }
   ],
   "source": [
    "type(y['date'][0])"
   ]
  },
  {
   "cell_type": "code",
   "execution_count": 14,
   "metadata": {},
   "outputs": [],
   "source": [
    "final = y[((y['date'] >= '2016-04-01 00:00:00') & (y['date'] <= '2016-04-01 23:00:00'))]"
   ]
  },
  {
   "cell_type": "code",
   "execution_count": 15,
   "metadata": {},
   "outputs": [
    {
     "output_type": "stream",
     "name": "stderr",
     "text": [
      "/Users/venkyman/Library/Python/2.7/lib/python/site-packages/ipykernel_launcher.py:4: SettingWithCopyWarning: \nA value is trying to be set on a copy of a slice from a DataFrame\n\nSee the caveats in the documentation: http://pandas.pydata.org/pandas-docs/stable/indexing.html#indexing-view-versus-copy\n  after removing the cwd from sys.path.\n/Users/venkyman/Library/Python/2.7/lib/python/site-packages/pandas/core/indexing.py:190: SettingWithCopyWarning: \nA value is trying to be set on a copy of a slice from a DataFrame\n\nSee the caveats in the documentation: http://pandas.pydata.org/pandas-docs/stable/indexing.html#indexing-view-versus-copy\n  self._setitem_with_indexer(indexer, value)\n/Users/venkyman/Library/Python/2.7/lib/python/site-packages/pandas/core/series.py:1015: SettingWithCopyWarning: \nA value is trying to be set on a copy of a slice from a DataFrame\n\nSee the caveats in the documentation: http://pandas.pydata.org/pandas-docs/stable/indexing.html#indexing-view-versus-copy\n  self.loc[key] = value\n/Users/venkyman/Library/Python/2.7/lib/python/site-packages/IPython/core/interactiveshell.py:2878: SettingWithCopyWarning: \nA value is trying to be set on a copy of a slice from a DataFrame\n\nSee the caveats in the documentation: http://pandas.pydata.org/pandas-docs/stable/indexing.html#indexing-view-versus-copy\n  exec(code_obj, self.user_global_ns, self.user_ns)\n"
     ]
    }
   ],
   "source": [
    "for i in final.index:\n",
    "    # print(type(final['date'][i].hour))\n",
    "    # print(final['chemical'][i])\n",
    "    final['date'][i] = final['date'][i].hour + 1"
   ]
  },
  {
   "cell_type": "code",
   "execution_count": 16,
   "metadata": {},
   "outputs": [],
   "source": [
    "final = final[['chemical','date','reading']]"
   ]
  },
  {
   "cell_type": "code",
   "execution_count": 17,
   "metadata": {},
   "outputs": [
    {
     "output_type": "execute_result",
     "data": {
      "text/html": "<div>\n<style scoped>\n    .dataframe tbody tr th:only-of-type {\n        vertical-align: middle;\n    }\n\n    .dataframe tbody tr th {\n        vertical-align: top;\n    }\n\n    .dataframe thead th {\n        text-align: right;\n    }\n</style>\n<table border=\"1\" class=\"dataframe\">\n  <thead>\n    <tr style=\"text-align: right;\">\n      <th></th>\n      <th>chemical</th>\n      <th>date</th>\n      <th>reading</th>\n    </tr>\n  </thead>\n  <tbody>\n    <tr>\n      <th>2</th>\n      <td>AGOC-3A</td>\n      <td>1</td>\n      <td>0.160462</td>\n    </tr>\n    <tr>\n      <th>6</th>\n      <td>AGOC-3A</td>\n      <td>2</td>\n      <td>0.065606</td>\n    </tr>\n    <tr>\n      <th>9</th>\n      <td>AGOC-3A</td>\n      <td>3</td>\n      <td>0.203970</td>\n    </tr>\n    <tr>\n      <th>15</th>\n      <td>AGOC-3A</td>\n      <td>4</td>\n      <td>0.089529</td>\n    </tr>\n    <tr>\n      <th>16</th>\n      <td>AGOC-3A</td>\n      <td>5</td>\n      <td>0.618398</td>\n    </tr>\n    <tr>\n      <th>21</th>\n      <td>AGOC-3A</td>\n      <td>6</td>\n      <td>0.294556</td>\n    </tr>\n    <tr>\n      <th>26</th>\n      <td>AGOC-3A</td>\n      <td>7</td>\n      <td>0.210431</td>\n    </tr>\n    <tr>\n      <th>28</th>\n      <td>AGOC-3A</td>\n      <td>8</td>\n      <td>0.271824</td>\n    </tr>\n    <tr>\n      <th>35</th>\n      <td>AGOC-3A</td>\n      <td>9</td>\n      <td>0.034329</td>\n    </tr>\n    <tr>\n      <th>37</th>\n      <td>AGOC-3A</td>\n      <td>10</td>\n      <td>0.270683</td>\n    </tr>\n    <tr>\n      <th>43</th>\n      <td>AGOC-3A</td>\n      <td>11</td>\n      <td>0.025184</td>\n    </tr>\n    <tr>\n      <th>47</th>\n      <td>AGOC-3A</td>\n      <td>12</td>\n      <td>0.066964</td>\n    </tr>\n    <tr>\n      <th>48</th>\n      <td>AGOC-3A</td>\n      <td>13</td>\n      <td>0.469625</td>\n    </tr>\n    <tr>\n      <th>52</th>\n      <td>AGOC-3A</td>\n      <td>14</td>\n      <td>0.271808</td>\n    </tr>\n    <tr>\n      <th>59</th>\n      <td>AGOC-3A</td>\n      <td>15</td>\n      <td>0.030660</td>\n    </tr>\n    <tr>\n      <th>60</th>\n      <td>AGOC-3A</td>\n      <td>16</td>\n      <td>0.266658</td>\n    </tr>\n    <tr>\n      <th>66</th>\n      <td>AGOC-3A</td>\n      <td>17</td>\n      <td>0.271123</td>\n    </tr>\n    <tr>\n      <th>70</th>\n      <td>AGOC-3A</td>\n      <td>18</td>\n      <td>0.176284</td>\n    </tr>\n    <tr>\n      <th>75</th>\n      <td>AGOC-3A</td>\n      <td>19</td>\n      <td>0.098690</td>\n    </tr>\n    <tr>\n      <th>78</th>\n      <td>AGOC-3A</td>\n      <td>20</td>\n      <td>0.078950</td>\n    </tr>\n    <tr>\n      <th>80</th>\n      <td>AGOC-3A</td>\n      <td>21</td>\n      <td>0.491511</td>\n    </tr>\n    <tr>\n      <th>86</th>\n      <td>AGOC-3A</td>\n      <td>22</td>\n      <td>0.038524</td>\n    </tr>\n    <tr>\n      <th>91</th>\n      <td>AGOC-3A</td>\n      <td>23</td>\n      <td>0.161849</td>\n    </tr>\n    <tr>\n      <th>93</th>\n      <td>AGOC-3A</td>\n      <td>24</td>\n      <td>0.404146</td>\n    </tr>\n    <tr>\n      <th>3</th>\n      <td>Appluimonia</td>\n      <td>1</td>\n      <td>0.003093</td>\n    </tr>\n    <tr>\n      <th>7</th>\n      <td>Appluimonia</td>\n      <td>2</td>\n      <td>0.009519</td>\n    </tr>\n    <tr>\n      <th>10</th>\n      <td>Appluimonia</td>\n      <td>3</td>\n      <td>0.098335</td>\n    </tr>\n    <tr>\n      <th>14</th>\n      <td>Appluimonia</td>\n      <td>4</td>\n      <td>0.288575</td>\n    </tr>\n    <tr>\n      <th>17</th>\n      <td>Appluimonia</td>\n      <td>5</td>\n      <td>0.331950</td>\n    </tr>\n    <tr>\n      <th>23</th>\n      <td>Appluimonia</td>\n      <td>6</td>\n      <td>0.038884</td>\n    </tr>\n    <tr>\n      <th>...</th>\n      <td>...</td>\n      <td>...</td>\n      <td>...</td>\n    </tr>\n    <tr>\n      <th>73</th>\n      <td>Chlorodinine</td>\n      <td>19</td>\n      <td>0.405464</td>\n    </tr>\n    <tr>\n      <th>79</th>\n      <td>Chlorodinine</td>\n      <td>20</td>\n      <td>0.042039</td>\n    </tr>\n    <tr>\n      <th>82</th>\n      <td>Chlorodinine</td>\n      <td>21</td>\n      <td>0.257028</td>\n    </tr>\n    <tr>\n      <th>84</th>\n      <td>Chlorodinine</td>\n      <td>22</td>\n      <td>0.275541</td>\n    </tr>\n    <tr>\n      <th>90</th>\n      <td>Chlorodinine</td>\n      <td>23</td>\n      <td>0.298078</td>\n    </tr>\n    <tr>\n      <th>94</th>\n      <td>Chlorodinine</td>\n      <td>24</td>\n      <td>0.253087</td>\n    </tr>\n    <tr>\n      <th>0</th>\n      <td>Methylosmolene</td>\n      <td>1</td>\n      <td>0.417423</td>\n    </tr>\n    <tr>\n      <th>4</th>\n      <td>Methylosmolene</td>\n      <td>2</td>\n      <td>0.381961</td>\n    </tr>\n    <tr>\n      <th>11</th>\n      <td>Methylosmolene</td>\n      <td>3</td>\n      <td>0.037844</td>\n    </tr>\n    <tr>\n      <th>13</th>\n      <td>Methylosmolene</td>\n      <td>4</td>\n      <td>0.353672</td>\n    </tr>\n    <tr>\n      <th>18</th>\n      <td>Methylosmolene</td>\n      <td>5</td>\n      <td>0.284877</td>\n    </tr>\n    <tr>\n      <th>20</th>\n      <td>Methylosmolene</td>\n      <td>6</td>\n      <td>0.989826</td>\n    </tr>\n    <tr>\n      <th>25</th>\n      <td>Methylosmolene</td>\n      <td>7</td>\n      <td>0.250966</td>\n    </tr>\n    <tr>\n      <th>30</th>\n      <td>Methylosmolene</td>\n      <td>8</td>\n      <td>0.072075</td>\n    </tr>\n    <tr>\n      <th>34</th>\n      <td>Methylosmolene</td>\n      <td>9</td>\n      <td>0.292984</td>\n    </tr>\n    <tr>\n      <th>39</th>\n      <td>Methylosmolene</td>\n      <td>10</td>\n      <td>0.098839</td>\n    </tr>\n    <tr>\n      <th>40</th>\n      <td>Methylosmolene</td>\n      <td>11</td>\n      <td>0.457522</td>\n    </tr>\n    <tr>\n      <th>45</th>\n      <td>Methylosmolene</td>\n      <td>12</td>\n      <td>0.228423</td>\n    </tr>\n    <tr>\n      <th>49</th>\n      <td>Methylosmolene</td>\n      <td>13</td>\n      <td>0.357148</td>\n    </tr>\n    <tr>\n      <th>55</th>\n      <td>Methylosmolene</td>\n      <td>14</td>\n      <td>0.223932</td>\n    </tr>\n    <tr>\n      <th>57</th>\n      <td>Methylosmolene</td>\n      <td>15</td>\n      <td>0.283356</td>\n    </tr>\n    <tr>\n      <th>61</th>\n      <td>Methylosmolene</td>\n      <td>16</td>\n      <td>0.177346</td>\n    </tr>\n    <tr>\n      <th>67</th>\n      <td>Methylosmolene</td>\n      <td>17</td>\n      <td>0.045448</td>\n    </tr>\n    <tr>\n      <th>69</th>\n      <td>Methylosmolene</td>\n      <td>18</td>\n      <td>0.240693</td>\n    </tr>\n    <tr>\n      <th>74</th>\n      <td>Methylosmolene</td>\n      <td>19</td>\n      <td>0.199028</td>\n    </tr>\n    <tr>\n      <th>76</th>\n      <td>Methylosmolene</td>\n      <td>20</td>\n      <td>0.568544</td>\n    </tr>\n    <tr>\n      <th>81</th>\n      <td>Methylosmolene</td>\n      <td>21</td>\n      <td>0.284760</td>\n    </tr>\n    <tr>\n      <th>87</th>\n      <td>Methylosmolene</td>\n      <td>22</td>\n      <td>0.019563</td>\n    </tr>\n    <tr>\n      <th>89</th>\n      <td>Methylosmolene</td>\n      <td>23</td>\n      <td>0.314071</td>\n    </tr>\n    <tr>\n      <th>92</th>\n      <td>Methylosmolene</td>\n      <td>24</td>\n      <td>0.529585</td>\n    </tr>\n  </tbody>\n</table>\n<p>96 rows × 3 columns</p>\n</div>",
      "text/plain": [
       "          chemical date   reading\n",
       "2          AGOC-3A    1  0.160462\n",
       "6          AGOC-3A    2  0.065606\n",
       "9          AGOC-3A    3  0.203970\n",
       "15         AGOC-3A    4  0.089529\n",
       "16         AGOC-3A    5  0.618398\n",
       "21         AGOC-3A    6  0.294556\n",
       "26         AGOC-3A    7  0.210431\n",
       "28         AGOC-3A    8  0.271824\n",
       "35         AGOC-3A    9  0.034329\n",
       "37         AGOC-3A   10  0.270683\n",
       "43         AGOC-3A   11  0.025184\n",
       "47         AGOC-3A   12  0.066964\n",
       "48         AGOC-3A   13  0.469625\n",
       "52         AGOC-3A   14  0.271808\n",
       "59         AGOC-3A   15  0.030660\n",
       "60         AGOC-3A   16  0.266658\n",
       "66         AGOC-3A   17  0.271123\n",
       "70         AGOC-3A   18  0.176284\n",
       "75         AGOC-3A   19  0.098690\n",
       "78         AGOC-3A   20  0.078950\n",
       "80         AGOC-3A   21  0.491511\n",
       "86         AGOC-3A   22  0.038524\n",
       "91         AGOC-3A   23  0.161849\n",
       "93         AGOC-3A   24  0.404146\n",
       "3      Appluimonia    1  0.003093\n",
       "7      Appluimonia    2  0.009519\n",
       "10     Appluimonia    3  0.098335\n",
       "14     Appluimonia    4  0.288575\n",
       "17     Appluimonia    5  0.331950\n",
       "23     Appluimonia    6  0.038884\n",
       "..             ...  ...       ...\n",
       "73    Chlorodinine   19  0.405464\n",
       "79    Chlorodinine   20  0.042039\n",
       "82    Chlorodinine   21  0.257028\n",
       "84    Chlorodinine   22  0.275541\n",
       "90    Chlorodinine   23  0.298078\n",
       "94    Chlorodinine   24  0.253087\n",
       "0   Methylosmolene    1  0.417423\n",
       "4   Methylosmolene    2  0.381961\n",
       "11  Methylosmolene    3  0.037844\n",
       "13  Methylosmolene    4  0.353672\n",
       "18  Methylosmolene    5  0.284877\n",
       "20  Methylosmolene    6  0.989826\n",
       "25  Methylosmolene    7  0.250966\n",
       "30  Methylosmolene    8  0.072075\n",
       "34  Methylosmolene    9  0.292984\n",
       "39  Methylosmolene   10  0.098839\n",
       "40  Methylosmolene   11  0.457522\n",
       "45  Methylosmolene   12  0.228423\n",
       "49  Methylosmolene   13  0.357148\n",
       "55  Methylosmolene   14  0.223932\n",
       "57  Methylosmolene   15  0.283356\n",
       "61  Methylosmolene   16  0.177346\n",
       "67  Methylosmolene   17  0.045448\n",
       "69  Methylosmolene   18  0.240693\n",
       "74  Methylosmolene   19  0.199028\n",
       "76  Methylosmolene   20  0.568544\n",
       "81  Methylosmolene   21  0.284760\n",
       "87  Methylosmolene   22  0.019563\n",
       "89  Methylosmolene   23  0.314071\n",
       "92  Methylosmolene   24  0.529585\n",
       "\n",
       "[96 rows x 3 columns]"
      ]
     },
     "metadata": {},
     "execution_count": 17
    }
   ],
   "source": [
    "final"
   ]
  },
  {
   "cell_type": "code",
   "execution_count": 18,
   "metadata": {},
   "outputs": [
    {
     "output_type": "stream",
     "name": "stderr",
     "text": [
      "/Users/venkyman/Library/Python/2.7/lib/python/site-packages/ipykernel_launcher.py:9: SettingWithCopyWarning: \n",
      "A value is trying to be set on a copy of a slice from a DataFrame\n",
      "\n",
      "See the caveats in the documentation: http://pandas.pydata.org/pandas-docs/stable/indexing.html#indexing-view-versus-copy\n",
      "  if __name__ == '__main__':\n",
      "/Users/venkyman/Library/Python/2.7/lib/python/site-packages/ipykernel_launcher.py:7: SettingWithCopyWarning: \n",
      "A value is trying to be set on a copy of a slice from a DataFrame\n",
      "\n",
      "See the caveats in the documentation: http://pandas.pydata.org/pandas-docs/stable/indexing.html#indexing-view-versus-copy\n",
      "  import sys\n",
      "/Users/venkyman/Library/Python/2.7/lib/python/site-packages/ipykernel_launcher.py:5: SettingWithCopyWarning: \n",
      "A value is trying to be set on a copy of a slice from a DataFrame\n",
      "\n",
      "See the caveats in the documentation: http://pandas.pydata.org/pandas-docs/stable/indexing.html#indexing-view-versus-copy\n",
      "  \"\"\"\n",
      "/Users/venkyman/Library/Python/2.7/lib/python/site-packages/ipykernel_launcher.py:3: SettingWithCopyWarning: \n",
      "A value is trying to be set on a copy of a slice from a DataFrame\n",
      "\n",
      "See the caveats in the documentation: http://pandas.pydata.org/pandas-docs/stable/indexing.html#indexing-view-versus-copy\n",
      "  This is separate from the ipykernel package so we can avoid doing imports until\n"
     ]
    }
   ],
   "source": [
    "for i in final.index:\n",
    "    if final['chemical'][i] == 'Methylosmolene':\n",
    "        final['chemical'][i] = 4\n",
    "    if final['chemical'][i] == 'Chlorodinine':\n",
    "        final['chemical'][i] = 3\n",
    "    if final['chemical'][i] == 'Appluimonia':\n",
    "        final['chemical'][i] = 2\n",
    "    if final['chemical'][i] == 'AGOC-3A':\n",
    "        final['chemical'][i] = 1\n",
    "    # final['chemical'][i] = final['chemicl'][i].hour + 1"
   ]
  },
  {
   "cell_type": "code",
   "execution_count": 19,
   "metadata": {},
   "outputs": [],
   "source": [
    "final.columns = ['chemical','hour','value']"
   ]
  },
  {
   "cell_type": "code",
   "execution_count": 20,
   "metadata": {},
   "outputs": [
    {
     "output_type": "execute_result",
     "data": {
      "text/html": "<div>\n<style scoped>\n    .dataframe tbody tr th:only-of-type {\n        vertical-align: middle;\n    }\n\n    .dataframe tbody tr th {\n        vertical-align: top;\n    }\n\n    .dataframe thead th {\n        text-align: right;\n    }\n</style>\n<table border=\"1\" class=\"dataframe\">\n  <thead>\n    <tr style=\"text-align: right;\">\n      <th></th>\n      <th>chemical</th>\n      <th>hour</th>\n      <th>value</th>\n    </tr>\n  </thead>\n  <tbody>\n    <tr>\n      <th>2</th>\n      <td>1</td>\n      <td>1</td>\n      <td>0.160462</td>\n    </tr>\n    <tr>\n      <th>6</th>\n      <td>1</td>\n      <td>2</td>\n      <td>0.065606</td>\n    </tr>\n    <tr>\n      <th>9</th>\n      <td>1</td>\n      <td>3</td>\n      <td>0.203970</td>\n    </tr>\n    <tr>\n      <th>15</th>\n      <td>1</td>\n      <td>4</td>\n      <td>0.089529</td>\n    </tr>\n    <tr>\n      <th>16</th>\n      <td>1</td>\n      <td>5</td>\n      <td>0.618398</td>\n    </tr>\n    <tr>\n      <th>21</th>\n      <td>1</td>\n      <td>6</td>\n      <td>0.294556</td>\n    </tr>\n    <tr>\n      <th>26</th>\n      <td>1</td>\n      <td>7</td>\n      <td>0.210431</td>\n    </tr>\n    <tr>\n      <th>28</th>\n      <td>1</td>\n      <td>8</td>\n      <td>0.271824</td>\n    </tr>\n    <tr>\n      <th>35</th>\n      <td>1</td>\n      <td>9</td>\n      <td>0.034329</td>\n    </tr>\n    <tr>\n      <th>37</th>\n      <td>1</td>\n      <td>10</td>\n      <td>0.270683</td>\n    </tr>\n    <tr>\n      <th>43</th>\n      <td>1</td>\n      <td>11</td>\n      <td>0.025184</td>\n    </tr>\n    <tr>\n      <th>47</th>\n      <td>1</td>\n      <td>12</td>\n      <td>0.066964</td>\n    </tr>\n    <tr>\n      <th>48</th>\n      <td>1</td>\n      <td>13</td>\n      <td>0.469625</td>\n    </tr>\n    <tr>\n      <th>52</th>\n      <td>1</td>\n      <td>14</td>\n      <td>0.271808</td>\n    </tr>\n    <tr>\n      <th>59</th>\n      <td>1</td>\n      <td>15</td>\n      <td>0.030660</td>\n    </tr>\n    <tr>\n      <th>60</th>\n      <td>1</td>\n      <td>16</td>\n      <td>0.266658</td>\n    </tr>\n    <tr>\n      <th>66</th>\n      <td>1</td>\n      <td>17</td>\n      <td>0.271123</td>\n    </tr>\n    <tr>\n      <th>70</th>\n      <td>1</td>\n      <td>18</td>\n      <td>0.176284</td>\n    </tr>\n    <tr>\n      <th>75</th>\n      <td>1</td>\n      <td>19</td>\n      <td>0.098690</td>\n    </tr>\n    <tr>\n      <th>78</th>\n      <td>1</td>\n      <td>20</td>\n      <td>0.078950</td>\n    </tr>\n    <tr>\n      <th>80</th>\n      <td>1</td>\n      <td>21</td>\n      <td>0.491511</td>\n    </tr>\n    <tr>\n      <th>86</th>\n      <td>1</td>\n      <td>22</td>\n      <td>0.038524</td>\n    </tr>\n    <tr>\n      <th>91</th>\n      <td>1</td>\n      <td>23</td>\n      <td>0.161849</td>\n    </tr>\n    <tr>\n      <th>93</th>\n      <td>1</td>\n      <td>24</td>\n      <td>0.404146</td>\n    </tr>\n    <tr>\n      <th>3</th>\n      <td>2</td>\n      <td>1</td>\n      <td>0.003093</td>\n    </tr>\n    <tr>\n      <th>7</th>\n      <td>2</td>\n      <td>2</td>\n      <td>0.009519</td>\n    </tr>\n    <tr>\n      <th>10</th>\n      <td>2</td>\n      <td>3</td>\n      <td>0.098335</td>\n    </tr>\n    <tr>\n      <th>14</th>\n      <td>2</td>\n      <td>4</td>\n      <td>0.288575</td>\n    </tr>\n    <tr>\n      <th>17</th>\n      <td>2</td>\n      <td>5</td>\n      <td>0.331950</td>\n    </tr>\n    <tr>\n      <th>23</th>\n      <td>2</td>\n      <td>6</td>\n      <td>0.038884</td>\n    </tr>\n    <tr>\n      <th>...</th>\n      <td>...</td>\n      <td>...</td>\n      <td>...</td>\n    </tr>\n    <tr>\n      <th>73</th>\n      <td>3</td>\n      <td>19</td>\n      <td>0.405464</td>\n    </tr>\n    <tr>\n      <th>79</th>\n      <td>3</td>\n      <td>20</td>\n      <td>0.042039</td>\n    </tr>\n    <tr>\n      <th>82</th>\n      <td>3</td>\n      <td>21</td>\n      <td>0.257028</td>\n    </tr>\n    <tr>\n      <th>84</th>\n      <td>3</td>\n      <td>22</td>\n      <td>0.275541</td>\n    </tr>\n    <tr>\n      <th>90</th>\n      <td>3</td>\n      <td>23</td>\n      <td>0.298078</td>\n    </tr>\n    <tr>\n      <th>94</th>\n      <td>3</td>\n      <td>24</td>\n      <td>0.253087</td>\n    </tr>\n    <tr>\n      <th>0</th>\n      <td>4</td>\n      <td>1</td>\n      <td>0.417423</td>\n    </tr>\n    <tr>\n      <th>4</th>\n      <td>4</td>\n      <td>2</td>\n      <td>0.381961</td>\n    </tr>\n    <tr>\n      <th>11</th>\n      <td>4</td>\n      <td>3</td>\n      <td>0.037844</td>\n    </tr>\n    <tr>\n      <th>13</th>\n      <td>4</td>\n      <td>4</td>\n      <td>0.353672</td>\n    </tr>\n    <tr>\n      <th>18</th>\n      <td>4</td>\n      <td>5</td>\n      <td>0.284877</td>\n    </tr>\n    <tr>\n      <th>20</th>\n      <td>4</td>\n      <td>6</td>\n      <td>0.989826</td>\n    </tr>\n    <tr>\n      <th>25</th>\n      <td>4</td>\n      <td>7</td>\n      <td>0.250966</td>\n    </tr>\n    <tr>\n      <th>30</th>\n      <td>4</td>\n      <td>8</td>\n      <td>0.072075</td>\n    </tr>\n    <tr>\n      <th>34</th>\n      <td>4</td>\n      <td>9</td>\n      <td>0.292984</td>\n    </tr>\n    <tr>\n      <th>39</th>\n      <td>4</td>\n      <td>10</td>\n      <td>0.098839</td>\n    </tr>\n    <tr>\n      <th>40</th>\n      <td>4</td>\n      <td>11</td>\n      <td>0.457522</td>\n    </tr>\n    <tr>\n      <th>45</th>\n      <td>4</td>\n      <td>12</td>\n      <td>0.228423</td>\n    </tr>\n    <tr>\n      <th>49</th>\n      <td>4</td>\n      <td>13</td>\n      <td>0.357148</td>\n    </tr>\n    <tr>\n      <th>55</th>\n      <td>4</td>\n      <td>14</td>\n      <td>0.223932</td>\n    </tr>\n    <tr>\n      <th>57</th>\n      <td>4</td>\n      <td>15</td>\n      <td>0.283356</td>\n    </tr>\n    <tr>\n      <th>61</th>\n      <td>4</td>\n      <td>16</td>\n      <td>0.177346</td>\n    </tr>\n    <tr>\n      <th>67</th>\n      <td>4</td>\n      <td>17</td>\n      <td>0.045448</td>\n    </tr>\n    <tr>\n      <th>69</th>\n      <td>4</td>\n      <td>18</td>\n      <td>0.240693</td>\n    </tr>\n    <tr>\n      <th>74</th>\n      <td>4</td>\n      <td>19</td>\n      <td>0.199028</td>\n    </tr>\n    <tr>\n      <th>76</th>\n      <td>4</td>\n      <td>20</td>\n      <td>0.568544</td>\n    </tr>\n    <tr>\n      <th>81</th>\n      <td>4</td>\n      <td>21</td>\n      <td>0.284760</td>\n    </tr>\n    <tr>\n      <th>87</th>\n      <td>4</td>\n      <td>22</td>\n      <td>0.019563</td>\n    </tr>\n    <tr>\n      <th>89</th>\n      <td>4</td>\n      <td>23</td>\n      <td>0.314071</td>\n    </tr>\n    <tr>\n      <th>92</th>\n      <td>4</td>\n      <td>24</td>\n      <td>0.529585</td>\n    </tr>\n  </tbody>\n</table>\n<p>96 rows × 3 columns</p>\n</div>",
      "text/plain": [
       "   chemical hour     value\n",
       "2         1    1  0.160462\n",
       "6         1    2  0.065606\n",
       "9         1    3  0.203970\n",
       "15        1    4  0.089529\n",
       "16        1    5  0.618398\n",
       "21        1    6  0.294556\n",
       "26        1    7  0.210431\n",
       "28        1    8  0.271824\n",
       "35        1    9  0.034329\n",
       "37        1   10  0.270683\n",
       "43        1   11  0.025184\n",
       "47        1   12  0.066964\n",
       "48        1   13  0.469625\n",
       "52        1   14  0.271808\n",
       "59        1   15  0.030660\n",
       "60        1   16  0.266658\n",
       "66        1   17  0.271123\n",
       "70        1   18  0.176284\n",
       "75        1   19  0.098690\n",
       "78        1   20  0.078950\n",
       "80        1   21  0.491511\n",
       "86        1   22  0.038524\n",
       "91        1   23  0.161849\n",
       "93        1   24  0.404146\n",
       "3         2    1  0.003093\n",
       "7         2    2  0.009519\n",
       "10        2    3  0.098335\n",
       "14        2    4  0.288575\n",
       "17        2    5  0.331950\n",
       "23        2    6  0.038884\n",
       "..      ...  ...       ...\n",
       "73        3   19  0.405464\n",
       "79        3   20  0.042039\n",
       "82        3   21  0.257028\n",
       "84        3   22  0.275541\n",
       "90        3   23  0.298078\n",
       "94        3   24  0.253087\n",
       "0         4    1  0.417423\n",
       "4         4    2  0.381961\n",
       "11        4    3  0.037844\n",
       "13        4    4  0.353672\n",
       "18        4    5  0.284877\n",
       "20        4    6  0.989826\n",
       "25        4    7  0.250966\n",
       "30        4    8  0.072075\n",
       "34        4    9  0.292984\n",
       "39        4   10  0.098839\n",
       "40        4   11  0.457522\n",
       "45        4   12  0.228423\n",
       "49        4   13  0.357148\n",
       "55        4   14  0.223932\n",
       "57        4   15  0.283356\n",
       "61        4   16  0.177346\n",
       "67        4   17  0.045448\n",
       "69        4   18  0.240693\n",
       "74        4   19  0.199028\n",
       "76        4   20  0.568544\n",
       "81        4   21  0.284760\n",
       "87        4   22  0.019563\n",
       "89        4   23  0.314071\n",
       "92        4   24  0.529585\n",
       "\n",
       "[96 rows x 3 columns]"
      ]
     },
     "metadata": {},
     "execution_count": 20
    }
   ],
   "source": [
    "final"
   ]
  },
  {
   "cell_type": "code",
   "execution_count": 21,
   "metadata": {},
   "outputs": [],
   "source": [
    "final.to_csv('sensor_1_heatmap.tsv', sep = '\\t', index = False)"
   ]
  },
  {
   "cell_type": "code",
   "execution_count": null,
   "metadata": {},
   "outputs": [],
   "source": []
  }
 ]
}