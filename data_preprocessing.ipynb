{
 "cells": [
  {
   "cell_type": "code",
   "execution_count": 412,
   "metadata": {},
   "outputs": [],
   "source": [
    "import numpy as np\n",
    "import os\n",
    "import pandas as pd"
   ]
  },
  {
   "cell_type": "code",
   "execution_count": 421,
   "metadata": {},
   "outputs": [
    {
     "name": "stdout",
     "output_type": "stream",
     "text": [
      "1502\n",
      "1502\n"
     ]
    },
    {
     "name": "stderr",
     "output_type": "stream",
     "text": [
      "/Users/raghav/opt/anaconda3/lib/python3.7/site-packages/ipykernel_launcher.py:40: SettingWithCopyWarning: \n",
      "A value is trying to be set on a copy of a slice from a DataFrame\n",
      "\n",
      "See the caveats in the documentation: https://pandas.pydata.org/pandas-docs/stable/user_guide/indexing.html#returning-a-view-versus-a-copy\n",
      "/Users/raghav/opt/anaconda3/lib/python3.7/site-packages/ipykernel_launcher.py:41: SettingWithCopyWarning: \n",
      "A value is trying to be set on a copy of a slice from a DataFrame\n",
      "\n",
      "See the caveats in the documentation: https://pandas.pydata.org/pandas-docs/stable/user_guide/indexing.html#returning-a-view-versus-a-copy\n",
      "/Users/raghav/opt/anaconda3/lib/python3.7/site-packages/ipykernel_launcher.py:45: SettingWithCopyWarning: \n",
      "A value is trying to be set on a copy of a slice from a DataFrame\n",
      "\n",
      "See the caveats in the documentation: https://pandas.pydata.org/pandas-docs/stable/user_guide/indexing.html#returning-a-view-versus-a-copy\n",
      "/Users/raghav/opt/anaconda3/lib/python3.7/site-packages/ipykernel_launcher.py:46: SettingWithCopyWarning: \n",
      "A value is trying to be set on a copy of a slice from a DataFrame\n",
      "\n",
      "See the caveats in the documentation: https://pandas.pydata.org/pandas-docs/stable/user_guide/indexing.html#returning-a-view-versus-a-copy\n"
     ]
    }
   ],
   "source": [
    "data_dir = os.path.abspath(\"MC2Data\")\n",
    "meteor_file = os.path.join(data_dir, \"Meteorological Data.xlsx\")\n",
    "meteor_data = pd.read_excel(meteor_file)\n",
    "meteor_data = meteor_data.iloc[:,:3]\n",
    "sensor_file = os.path.join(data_dir, \"Sensor Data.xlsx\")\n",
    "sensor_data = pd.read_excel(sensor_file)\n",
    "sensor_data.columns = ['chemical', 'monitor', 'date', 'reading']\n",
    "meteor_data.columns = ['date', 'wind_direction', 'wind_speed']\n",
    "meteor_data.date\n",
    "meteor_data = meteor_data.dropna()\n",
    "meteor_data.isna().sum()\n",
    "data = pd.merge(sensor_data,meteor_data,on='date',how='left')\n",
    "data['wind_direction'] = data['wind_direction'].fillna(-11111)\n",
    "data['wind_speed'] = data['wind_speed'].fillna(-11112)\n",
    "data_meteor = data[['date', 'wind_direction', 'wind_speed']]\n",
    "data_meteor = data_meteor.drop_duplicates()\n",
    "data_meteor = data_meteor.reset_index(drop=True)\n",
    "data_meteor['wind_direction'] = data_meteor['wind_direction'].replace(-11111, 0)\n",
    "data_meteor['wind_speed'] = data_meteor['wind_speed'].replace(-11112, 0)\n",
    "print(len(data_meteor['wind_speed']) - np.count_nonzero(data_meteor['wind_speed']))\n",
    "print(len(data_meteor['wind_direction']) - np.count_nonzero(data_meteor['wind_direction']))\n",
    "i = 0\n",
    "while(i <= len(data_meteor)-3):\n",
    "    if(data_meteor['wind_speed'][i] == 0 and data_meteor['wind_direction'][i] == 0):\n",
    "        count_0 = 0\n",
    "        for j in range(1,6):\n",
    "            count_0 += 1\n",
    "            if(data_meteor['wind_speed'][i+j] != 0 and data_meteor['wind_direction'][i+j] != 0):\n",
    "                break\n",
    "            elif(j == 5):\n",
    "                break\n",
    "        diff_wind_speed = data_meteor['wind_speed'][i+j] - data_meteor['wind_speed'][i-1]\n",
    "        diff_wind_direction = data_meteor['wind_direction'][i+j] - data_meteor['wind_direction'][i-1]\n",
    "        avg_wind_speed = diff_wind_speed / (count_0 + 1)\n",
    "        avg_wind_direction = diff_wind_direction / (count_0 + 1)\n",
    "        total_wind_speed = data_meteor['wind_speed'][i-1] + avg_wind_speed\n",
    "        total_wind_direction = data_meteor['wind_direction'][i-1] + avg_wind_direction\n",
    "        for k in range(0, count_0):\n",
    "            if k == 0:\n",
    "                data_meteor['wind_speed'][i+k] = total_wind_speed\n",
    "                data_meteor['wind_direction'][i+k] = total_wind_direction\n",
    "            else:\n",
    "                total_wind_speed = data_meteor['wind_speed'][i-1] + (avg_wind_speed * (k+1))\n",
    "                total_wind_direction = data_meteor['wind_direction'][i-1] + (avg_wind_direction * (k+1))\n",
    "                data_meteor['wind_speed'][i+k] = total_wind_speed\n",
    "                data_meteor['wind_direction'][i+k] = total_wind_direction\n",
    "        i = i + j\n",
    "    i += 1\n",
    "data_meteor.to_csv('/Users/raghav/Documents/DV/project/MC2Data/meteor_test.csv')\n",
    "data_sensor = data[['date', 'chemical', 'monitor', 'reading']]"
   ]
  },
  {
   "cell_type": "code",
   "execution_count": 435,
   "metadata": {},
   "outputs": [
    {
     "name": "stderr",
     "output_type": "stream",
     "text": [
      "/Users/raghav/opt/anaconda3/lib/python3.7/site-packages/ipykernel_launcher.py:1: SettingWithCopyWarning: \n",
      "A value is trying to be set on a copy of a slice from a DataFrame\n",
      "\n",
      "See the caveats in the documentation: https://pandas.pydata.org/pandas-docs/stable/user_guide/indexing.html#returning-a-view-versus-a-copy\n",
      "  \"\"\"Entry point for launching an IPython kernel.\n",
      "/Users/raghav/opt/anaconda3/lib/python3.7/site-packages/ipykernel_launcher.py:2: SettingWithCopyWarning: \n",
      "A value is trying to be set on a copy of a slice from a DataFrame\n",
      "\n",
      "See the caveats in the documentation: https://pandas.pydata.org/pandas-docs/stable/user_guide/indexing.html#returning-a-view-versus-a-copy\n",
      "  \n",
      "/Users/raghav/opt/anaconda3/lib/python3.7/site-packages/ipykernel_launcher.py:3: SettingWithCopyWarning: \n",
      "A value is trying to be set on a copy of a slice from a DataFrame\n",
      "\n",
      "See the caveats in the documentation: https://pandas.pydata.org/pandas-docs/stable/user_guide/indexing.html#returning-a-view-versus-a-copy\n",
      "  This is separate from the ipykernel package so we can avoid doing imports until\n",
      "/Users/raghav/opt/anaconda3/lib/python3.7/site-packages/ipykernel_launcher.py:4: SettingWithCopyWarning: \n",
      "A value is trying to be set on a copy of a slice from a DataFrame\n",
      "\n",
      "See the caveats in the documentation: https://pandas.pydata.org/pandas-docs/stable/user_guide/indexing.html#returning-a-view-versus-a-copy\n",
      "  after removing the cwd from sys.path.\n"
     ]
    }
   ],
   "source": [
    "data_meteor['wind_direction'][2201] = 161.0\n",
    "data_meteor['wind_direction'][2202] = 161.0\n",
    "data_meteor['wind_speed'][2201] = 3.50\n",
    "data_meteor['wind_speed'][2202] = 3.50"
   ]
  },
  {
   "cell_type": "code",
   "execution_count": 436,
   "metadata": {},
   "outputs": [
    {
     "data": {
      "text/plain": [
       "79308"
      ]
     },
     "execution_count": 436,
     "metadata": {},
     "output_type": "execute_result"
    }
   ],
   "source": [
    "len(set(data_meteor.date)) * 9 * 4"
   ]
  },
  {
   "cell_type": "code",
   "execution_count": 437,
   "metadata": {},
   "outputs": [],
   "source": [
    "data_new = pd.merge(data_sensor,data_meteor,on='date',how='left')"
   ]
  },
  {
   "cell_type": "code",
   "execution_count": 438,
   "metadata": {},
   "outputs": [
    {
     "data": {
      "text/html": [
       "<div>\n",
       "<style scoped>\n",
       "    .dataframe tbody tr th:only-of-type {\n",
       "        vertical-align: middle;\n",
       "    }\n",
       "\n",
       "    .dataframe tbody tr th {\n",
       "        vertical-align: top;\n",
       "    }\n",
       "\n",
       "    .dataframe thead th {\n",
       "        text-align: right;\n",
       "    }\n",
       "</style>\n",
       "<table border=\"1\" class=\"dataframe\">\n",
       "  <thead>\n",
       "    <tr style=\"text-align: right;\">\n",
       "      <th></th>\n",
       "      <th>date</th>\n",
       "      <th>chemical</th>\n",
       "      <th>monitor</th>\n",
       "      <th>reading</th>\n",
       "    </tr>\n",
       "  </thead>\n",
       "  <tbody>\n",
       "    <tr>\n",
       "      <th>0</th>\n",
       "      <td>2016-04-01 00:00:00</td>\n",
       "      <td>Methylosmolene</td>\n",
       "      <td>3</td>\n",
       "      <td>2.683820</td>\n",
       "    </tr>\n",
       "    <tr>\n",
       "      <th>1</th>\n",
       "      <td>2016-04-01 00:00:00</td>\n",
       "      <td>Methylosmolene</td>\n",
       "      <td>7</td>\n",
       "      <td>2.630640</td>\n",
       "    </tr>\n",
       "    <tr>\n",
       "      <th>2</th>\n",
       "      <td>2016-04-01 00:00:00</td>\n",
       "      <td>Chlorodinine</td>\n",
       "      <td>3</td>\n",
       "      <td>1.259170</td>\n",
       "    </tr>\n",
       "    <tr>\n",
       "      <th>3</th>\n",
       "      <td>2016-04-01 00:00:00</td>\n",
       "      <td>Chlorodinine</td>\n",
       "      <td>7</td>\n",
       "      <td>0.943983</td>\n",
       "    </tr>\n",
       "    <tr>\n",
       "      <th>4</th>\n",
       "      <td>2016-04-01 00:00:00</td>\n",
       "      <td>AGOC-3A</td>\n",
       "      <td>3</td>\n",
       "      <td>0.722303</td>\n",
       "    </tr>\n",
       "    <tr>\n",
       "      <th>...</th>\n",
       "      <td>...</td>\n",
       "      <td>...</td>\n",
       "      <td>...</td>\n",
       "      <td>...</td>\n",
       "    </tr>\n",
       "    <tr>\n",
       "      <th>79238</th>\n",
       "      <td>2016-12-31 23:00:00</td>\n",
       "      <td>AGOC-3A</td>\n",
       "      <td>1</td>\n",
       "      <td>0.078266</td>\n",
       "    </tr>\n",
       "    <tr>\n",
       "      <th>79239</th>\n",
       "      <td>2016-12-31 23:00:00</td>\n",
       "      <td>Methylosmolene</td>\n",
       "      <td>3</td>\n",
       "      <td>0.062784</td>\n",
       "    </tr>\n",
       "    <tr>\n",
       "      <th>79240</th>\n",
       "      <td>2016-12-31 23:00:00</td>\n",
       "      <td>AGOC-3A</td>\n",
       "      <td>2</td>\n",
       "      <td>0.060814</td>\n",
       "    </tr>\n",
       "    <tr>\n",
       "      <th>79241</th>\n",
       "      <td>2016-12-31 23:00:00</td>\n",
       "      <td>Appluimonia</td>\n",
       "      <td>7</td>\n",
       "      <td>0.039729</td>\n",
       "    </tr>\n",
       "    <tr>\n",
       "      <th>79242</th>\n",
       "      <td>2016-12-31 23:00:00</td>\n",
       "      <td>AGOC-3A</td>\n",
       "      <td>7</td>\n",
       "      <td>0.014658</td>\n",
       "    </tr>\n",
       "  </tbody>\n",
       "</table>\n",
       "<p>79243 rows × 4 columns</p>\n",
       "</div>"
      ],
      "text/plain": [
       "                     date        chemical  monitor   reading\n",
       "0     2016-04-01 00:00:00  Methylosmolene        3  2.683820\n",
       "1     2016-04-01 00:00:00  Methylosmolene        7  2.630640\n",
       "2     2016-04-01 00:00:00    Chlorodinine        3  1.259170\n",
       "3     2016-04-01 00:00:00    Chlorodinine        7  0.943983\n",
       "4     2016-04-01 00:00:00         AGOC-3A        3  0.722303\n",
       "...                   ...             ...      ...       ...\n",
       "79238 2016-12-31 23:00:00         AGOC-3A        1  0.078266\n",
       "79239 2016-12-31 23:00:00  Methylosmolene        3  0.062784\n",
       "79240 2016-12-31 23:00:00         AGOC-3A        2  0.060814\n",
       "79241 2016-12-31 23:00:00     Appluimonia        7  0.039729\n",
       "79242 2016-12-31 23:00:00         AGOC-3A        7  0.014658\n",
       "\n",
       "[79243 rows x 4 columns]"
      ]
     },
     "execution_count": 438,
     "metadata": {},
     "output_type": "execute_result"
    }
   ],
   "source": [
    "data_sensor"
   ]
  },
  {
   "cell_type": "code",
   "execution_count": 439,
   "metadata": {},
   "outputs": [],
   "source": [
    "data_new.to_csv('/Users/raghav/Documents/DV/project/MC2Data/data_new.csv')"
   ]
  },
  {
   "cell_type": "code",
   "execution_count": 440,
   "metadata": {},
   "outputs": [],
   "source": [
    "data1 = data_new[data_new.monitor == 1]\n",
    "data1 = data1.reset_index(drop=True)\n",
    "data2 = data_new[data_new.monitor == 2]\n",
    "data2 = data2.reset_index(drop=True)\n",
    "data3 = data_new[data_new.monitor == 3]\n",
    "data3 = data3.reset_index(drop=True)\n",
    "data4 = data_new[data_new.monitor == 4]\n",
    "data4 = data4.reset_index(drop=True)\n",
    "data5 = data_new[data_new.monitor == 5]\n",
    "data5 = data5.reset_index(drop=True)\n",
    "data6 = data_new[data_new.monitor == 6]\n",
    "data6 = data6.reset_index(drop=True)\n",
    "data7 = data_new[data_new.monitor == 7]\n",
    "data7 = data7.reset_index(drop=True)\n",
    "data8 = data_new[data_new.monitor == 8]\n",
    "data8 = data8.reset_index(drop=True)\n",
    "data9 = data_new[data_new.monitor == 9]\n",
    "data9 = data9.reset_index(drop=True)\n",
    "data1.to_csv('/Users/raghav/Documents/DV/project/MC2Data/sensor_1.csv')\n",
    "data2.to_csv('/Users/raghav/Documents/DV/project/MC2Data/sensor_2.csv')\n",
    "data3.to_csv('/Users/raghav/Documents/DV/project/MC2Data/sensor_3.csv')\n",
    "data4.to_csv('/Users/raghav/Documents/DV/project/MC2Data/sensor_4.csv')\n",
    "data5.to_csv('/Users/raghav/Documents/DV/project/MC2Data/sensor_5.csv')\n",
    "data6.to_csv('/Users/raghav/Documents/DV/project/MC2Data/sensor_6.csv')\n",
    "data7.to_csv('/Users/raghav/Documents/DV/project/MC2Data/sensor_7.csv')\n",
    "data8.to_csv('/Users/raghav/Documents/DV/project/MC2Data/sensor_8.csv')\n",
    "data9.to_csv('/Users/raghav/Documents/DV/project/MC2Data/sensor_9.csv')"
   ]
  },
  {
   "cell_type": "code",
   "execution_count": null,
   "metadata": {},
   "outputs": [],
   "source": [
    "# import matplotlib.image as mpimg \n",
    "# import matplotlib.pyplot as plt \n",
    "  \n",
    "# # Read Images \n",
    "# img = mpimg.imread('/Users/raghav/Documents/DV/project/MC2Data/MapLargeLabels.jpg') \n",
    "# plt.rcParams['figure.figsize'] = [20, 10]\n",
    "# # Output Images \n",
    "# plt.imshow(img) \n",
    "\n",
    "# data.isna().sum()\n",
    "# data = data.dropna()   \n",
    "# data"
   ]
  }
 ],
 "metadata": {
  "kernelspec": {
   "display_name": "Python 3",
   "language": "python",
   "name": "python3"
  },
  "language_info": {
   "codemirror_mode": {
    "name": "ipython",
    "version": 3
   },
   "file_extension": ".py",
   "mimetype": "text/x-python",
   "name": "python",
   "nbconvert_exporter": "python",
   "pygments_lexer": "ipython3",
   "version": "3.7.6"
  }
 },
 "nbformat": 4,
 "nbformat_minor": 4
}
