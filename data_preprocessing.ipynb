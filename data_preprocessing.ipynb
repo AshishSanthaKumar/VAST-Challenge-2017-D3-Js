{
 "cells": [
  {
   "cell_type": "code",
   "execution_count": 412,
   "metadata": {},
   "outputs": [],
   "source": [
    "import numpy as np\n",
    "import os\n",
    "import pandas as pd"
   ]
  },
  {
   "cell_type": "code",
   "execution_count": 421,
   "metadata": {},
   "outputs": [
    {
     "name": "stdout",
     "output_type": "stream",
     "text": [
      "1502\n",
      "1502\n"
     ]
    },
    {
     "name": "stderr",
     "output_type": "stream",
     "text": [
      "/Users/raghav/opt/anaconda3/lib/python3.7/site-packages/ipykernel_launcher.py:40: SettingWithCopyWarning: \n",
      "A value is trying to be set on a copy of a slice from a DataFrame\n",
      "\n",
      "See the caveats in the documentation: https://pandas.pydata.org/pandas-docs/stable/user_guide/indexing.html#returning-a-view-versus-a-copy\n",
      "/Users/raghav/opt/anaconda3/lib/python3.7/site-packages/ipykernel_launcher.py:41: SettingWithCopyWarning: \n",
      "A value is trying to be set on a copy of a slice from a DataFrame\n",
      "\n",
      "See the caveats in the documentation: https://pandas.pydata.org/pandas-docs/stable/user_guide/indexing.html#returning-a-view-versus-a-copy\n",
      "/Users/raghav/opt/anaconda3/lib/python3.7/site-packages/ipykernel_launcher.py:45: SettingWithCopyWarning: \n",
      "A value is trying to be set on a copy of a slice from a DataFrame\n",
      "\n",
      "See the caveats in the documentation: https://pandas.pydata.org/pandas-docs/stable/user_guide/indexing.html#returning-a-view-versus-a-copy\n",
      "/Users/raghav/opt/anaconda3/lib/python3.7/site-packages/ipykernel_launcher.py:46: SettingWithCopyWarning: \n",
      "A value is trying to be set on a copy of a slice from a DataFrame\n",
      "\n",
      "See the caveats in the documentation: https://pandas.pydata.org/pandas-docs/stable/user_guide/indexing.html#returning-a-view-versus-a-copy\n"
     ]
    }
   ],
   "source": [
    "data_dir = os.path.abspath(\"MC2Data\")\n",
    "meteor_file = os.path.join(data_dir, \"Meteorological Data.xlsx\")\n",
    "meteor_data = pd.read_excel(meteor_file)\n",
    "meteor_data = meteor_data.iloc[:,:3]\n",
    "sensor_file = os.path.join(data_dir, \"Sensor Data.xlsx\")\n",
    "sensor_data = pd.read_excel(sensor_file)\n",
    "sensor_data.columns = ['chemical', 'monitor', 'date', 'reading']\n",
    "meteor_data.columns = ['date', 'wind_direction', 'wind_speed']\n",
    "meteor_data = meteor_data.dropna()\n",
    "meteor_data.isna().sum()\n",
    "data = pd.merge(sensor_data,meteor_data,on='date',how='left')\n",
    "data['wind_direction'] = data['wind_direction'].fillna(-11111)\n",
    "data['wind_speed'] = data['wind_speed'].fillna(-11112)\n",
    "data_meteor = data[['date', 'wind_direction', 'wind_speed']]\n",
    "data_meteor = data_meteor.drop_duplicates()\n",
    "data_meteor = data_meteor.reset_index(drop=True)\n",
    "data_meteor['wind_direction'] = data_meteor['wind_direction'].replace(-11111, 0)\n",
    "data_meteor['wind_speed'] = data_meteor['wind_speed'].replace(-11112, 0)\n",
    "print(len(data_meteor['wind_speed']) - np.count_nonzero(data_meteor['wind_speed']))\n",
    "print(len(data_meteor['wind_direction']) - np.count_nonzero(data_meteor['wind_direction']))\n",
    "i = 0\n",
    "while(i <= len(data_meteor)-3):\n",
    "    if(data_meteor['wind_speed'][i] == 0 and data_meteor['wind_direction'][i] == 0):\n",
    "        count_0 = 0\n",
    "        for j in range(1,6):\n",
    "            count_0 += 1\n",
    "            if(data_meteor['wind_speed'][i+j] != 0 and data_meteor['wind_direction'][i+j] != 0):\n",
    "                break\n",
    "            elif(j == 5):\n",
    "                break\n",
    "        diff_wind_speed = data_meteor['wind_speed'][i+j] - data_meteor['wind_speed'][i-1]\n",
    "        diff_wind_direction = data_meteor['wind_direction'][i+j] - data_meteor['wind_direction'][i-1]\n",
    "        avg_wind_speed = diff_wind_speed / (count_0 + 1)\n",
    "        avg_wind_direction = diff_wind_direction / (count_0 + 1)\n",
    "        total_wind_speed = data_meteor['wind_speed'][i-1] + avg_wind_speed\n",
    "        total_wind_direction = data_meteor['wind_direction'][i-1] + avg_wind_direction\n",
    "        for k in range(0, count_0):\n",
    "            if k == 0:\n",
    "                data_meteor['wind_speed'][i+k] = total_wind_speed\n",
    "                data_meteor['wind_direction'][i+k] = total_wind_direction\n",
    "            else:\n",
    "                total_wind_speed = data_meteor['wind_speed'][i-1] + (avg_wind_speed * (k+1))\n",
    "                total_wind_direction = data_meteor['wind_direction'][i-1] + (avg_wind_direction * (k+1))\n",
    "                data_meteor['wind_speed'][i+k] = total_wind_speed\n",
    "                data_meteor['wind_direction'][i+k] = total_wind_direction\n",
    "        i = i + j\n",
    "    i += 1\n",
    "data_meteor.to_csv('/Users/raghav/Documents/DV/project/MC2Data/meteor_test.csv')\n",
    "data_sensor = data[['date', 'chemical', 'monitor', 'reading']]"
   ]
  },
  {
   "cell_type": "code",
   "execution_count": 435,
   "metadata": {},
   "outputs": [
    {
     "name": "stderr",
     "output_type": "stream",
     "text": [
      "/Users/raghav/opt/anaconda3/lib/python3.7/site-packages/ipykernel_launcher.py:1: SettingWithCopyWarning: \n",
      "A value is trying to be set on a copy of a slice from a DataFrame\n",
      "\n",
      "See the caveats in the documentation: https://pandas.pydata.org/pandas-docs/stable/user_guide/indexing.html#returning-a-view-versus-a-copy\n",
      "  \"\"\"Entry point for launching an IPython kernel.\n",
      "/Users/raghav/opt/anaconda3/lib/python3.7/site-packages/ipykernel_launcher.py:2: SettingWithCopyWarning: \n",
      "A value is trying to be set on a copy of a slice from a DataFrame\n",
      "\n",
      "See the caveats in the documentation: https://pandas.pydata.org/pandas-docs/stable/user_guide/indexing.html#returning-a-view-versus-a-copy\n",
      "  \n",
      "/Users/raghav/opt/anaconda3/lib/python3.7/site-packages/ipykernel_launcher.py:3: SettingWithCopyWarning: \n",
      "A value is trying to be set on a copy of a slice from a DataFrame\n",
      "\n",
      "See the caveats in the documentation: https://pandas.pydata.org/pandas-docs/stable/user_guide/indexing.html#returning-a-view-versus-a-copy\n",
      "  This is separate from the ipykernel package so we can avoid doing imports until\n",
      "/Users/raghav/opt/anaconda3/lib/python3.7/site-packages/ipykernel_launcher.py:4: SettingWithCopyWarning: \n",
      "A value is trying to be set on a copy of a slice from a DataFrame\n",
      "\n",
      "See the caveats in the documentation: https://pandas.pydata.org/pandas-docs/stable/user_guide/indexing.html#returning-a-view-versus-a-copy\n",
      "  after removing the cwd from sys.path.\n"
     ]
    }
   ],
   "source": [
    "data_meteor['wind_direction'][2201] = 161.0\n",
    "data_meteor['wind_direction'][2202] = 161.0\n",
    "data_meteor['wind_speed'][2201] = 3.50\n",
    "data_meteor['wind_speed'][2202] = 3.50"
   ]
  },
  {
   "cell_type": "code",
   "execution_count": 436,
   "metadata": {},
   "outputs": [
    {
     "data": {
      "text/plain": [
       "79308"
      ]
     },
     "execution_count": 436,
     "metadata": {},
     "output_type": "execute_result"
    }
   ],
   "source": [
    "len(set(data_meteor.date)) * 9 * 4"
   ]
  },
  {
   "cell_type": "code",
   "execution_count": 437,
   "metadata": {},
   "outputs": [],
   "source": [
    "data_new = pd.merge(data_sensor,data_meteor,on='date',how='left')"
   ]
  },
  {
   "cell_type": "code",
   "execution_count": 438,
   "metadata": {},
   "outputs": [
    {
     "data": {
      "text/html": [
       "<div>\n",
       "<style scoped>\n",
       "    .dataframe tbody tr th:only-of-type {\n",
       "        vertical-align: middle;\n",
       "    }\n",
       "\n",
       "    .dataframe tbody tr th {\n",
       "        vertical-align: top;\n",
       "    }\n",
       "\n",
       "    .dataframe thead th {\n",
       "        text-align: right;\n",
       "    }\n",
       "</style>\n",
       "<table border=\"1\" class=\"dataframe\">\n",
       "  <thead>\n",
       "    <tr style=\"text-align: right;\">\n",
       "      <th></th>\n",
       "      <th>date</th>\n",
       "      <th>chemical</th>\n",
       "      <th>monitor</th>\n",
       "      <th>reading</th>\n",
       "    </tr>\n",
       "  </thead>\n",
       "  <tbody>\n",
       "    <tr>\n",
       "      <th>0</th>\n",
       "      <td>2016-04-01 00:00:00</td>\n",
       "      <td>Methylosmolene</td>\n",
       "      <td>3</td>\n",
       "      <td>2.683820</td>\n",
       "    </tr>\n",
       "    <tr>\n",
       "      <th>1</th>\n",
       "      <td>2016-04-01 00:00:00</td>\n",
       "      <td>Methylosmolene</td>\n",
       "      <td>7</td>\n",
       "      <td>2.630640</td>\n",
       "    </tr>\n",
       "    <tr>\n",
       "      <th>2</th>\n",
       "      <td>2016-04-01 00:00:00</td>\n",
       "      <td>Chlorodinine</td>\n",
       "      <td>3</td>\n",
       "      <td>1.259170</td>\n",
       "    </tr>\n",
       "    <tr>\n",
       "      <th>3</th>\n",
       "      <td>2016-04-01 00:00:00</td>\n",
       "      <td>Chlorodinine</td>\n",
       "      <td>7</td>\n",
       "      <td>0.943983</td>\n",
       "    </tr>\n",
       "    <tr>\n",
       "      <th>4</th>\n",
       "      <td>2016-04-01 00:00:00</td>\n",
       "      <td>AGOC-3A</td>\n",
       "      <td>3</td>\n",
       "      <td>0.722303</td>\n",
       "    </tr>\n",
       "    <tr>\n",
       "      <th>...</th>\n",
       "      <td>...</td>\n",
       "      <td>...</td>\n",
       "      <td>...</td>\n",
       "      <td>...</td>\n",
       "    </tr>\n",
       "    <tr>\n",
       "      <th>79238</th>\n",
       "      <td>2016-12-31 23:00:00</td>\n",
       "      <td>AGOC-3A</td>\n",
       "      <td>1</td>\n",
       "      <td>0.078266</td>\n",
       "    </tr>\n",
       "    <tr>\n",
       "      <th>79239</th>\n",
       "      <td>2016-12-31 23:00:00</td>\n",
       "      <td>Methylosmolene</td>\n",
       "      <td>3</td>\n",
       "      <td>0.062784</td>\n",
       "    </tr>\n",
       "    <tr>\n",
       "      <th>79240</th>\n",
       "      <td>2016-12-31 23:00:00</td>\n",
       "      <td>AGOC-3A</td>\n",
       "      <td>2</td>\n",
       "      <td>0.060814</td>\n",
       "    </tr>\n",
       "    <tr>\n",
       "      <th>79241</th>\n",
       "      <td>2016-12-31 23:00:00</td>\n",
       "      <td>Appluimonia</td>\n",
       "      <td>7</td>\n",
       "      <td>0.039729</td>\n",
       "    </tr>\n",
       "    <tr>\n",
       "      <th>79242</th>\n",
       "      <td>2016-12-31 23:00:00</td>\n",
       "      <td>AGOC-3A</td>\n",
       "      <td>7</td>\n",
       "      <td>0.014658</td>\n",
       "    </tr>\n",
       "  </tbody>\n",
       "</table>\n",
       "<p>79243 rows × 4 columns</p>\n",
       "</div>"
      ],
      "text/plain": [
       "                     date        chemical  monitor   reading\n",
       "0     2016-04-01 00:00:00  Methylosmolene        3  2.683820\n",
       "1     2016-04-01 00:00:00  Methylosmolene        7  2.630640\n",
       "2     2016-04-01 00:00:00    Chlorodinine        3  1.259170\n",
       "3     2016-04-01 00:00:00    Chlorodinine        7  0.943983\n",
       "4     2016-04-01 00:00:00         AGOC-3A        3  0.722303\n",
       "...                   ...             ...      ...       ...\n",
       "79238 2016-12-31 23:00:00         AGOC-3A        1  0.078266\n",
       "79239 2016-12-31 23:00:00  Methylosmolene        3  0.062784\n",
       "79240 2016-12-31 23:00:00         AGOC-3A        2  0.060814\n",
       "79241 2016-12-31 23:00:00     Appluimonia        7  0.039729\n",
       "79242 2016-12-31 23:00:00         AGOC-3A        7  0.014658\n",
       "\n",
       "[79243 rows x 4 columns]"
      ]
     },
     "execution_count": 438,
     "metadata": {},
     "output_type": "execute_result"
    }
   ],
   "source": [
    "data_sensor"
   ]
  },
  {
   "cell_type": "code",
   "execution_count": 439,
   "metadata": {},
   "outputs": [],
   "source": [
    "data_new.to_csv('/Users/raghav/Documents/DV/project/MC2Data/data_new.csv')"
   ]
  },
  {
   "cell_type": "code",
   "execution_count": 440,
   "metadata": {},
   "outputs": [],
   "source": [
    "data1 = data_new[data_new.monitor == 1]\n",
    "data1 = data1.reset_index(drop=True)\n",
    "data2 = data_new[data_new.monitor == 2]\n",
    "data2 = data2.reset_index(drop=True)\n",
    "data3 = data_new[data_new.monitor == 3]\n",
    "data3 = data3.reset_index(drop=True)\n",
    "data4 = data_new[data_new.monitor == 4]\n",
    "data4 = data4.reset_index(drop=True)\n",
    "data5 = data_new[data_new.monitor == 5]\n",
    "data5 = data5.reset_index(drop=True)\n",
    "data6 = data_new[data_new.monitor == 6]\n",
    "data6 = data6.reset_index(drop=True)\n",
    "data7 = data_new[data_new.monitor == 7]\n",
    "data7 = data7.reset_index(drop=True)\n",
    "data8 = data_new[data_new.monitor == 8]\n",
    "data8 = data8.reset_index(drop=True)\n",
    "data9 = data_new[data_new.monitor == 9]\n",
    "data9 = data9.reset_index(drop=True)\n",
    "data1.to_csv('/Users/raghav/Documents/DV/project/MC2Data/sensor_1.csv')\n",
    "data2.to_csv('/Users/raghav/Documents/DV/project/MC2Data/sensor_2.csv')\n",
    "data3.to_csv('/Users/raghav/Documents/DV/project/MC2Data/sensor_3.csv')\n",
    "data4.to_csv('/Users/raghav/Documents/DV/project/MC2Data/sensor_4.csv')\n",
    "data5.to_csv('/Users/raghav/Documents/DV/project/MC2Data/sensor_5.csv')\n",
    "data6.to_csv('/Users/raghav/Documents/DV/project/MC2Data/sensor_6.csv')\n",
    "data7.to_csv('/Users/raghav/Documents/DV/project/MC2Data/sensor_7.csv')\n",
    "data8.to_csv('/Users/raghav/Documents/DV/project/MC2Data/sensor_8.csv')\n",
    "data9.to_csv('/Users/raghav/Documents/DV/project/MC2Data/sensor_9.csv')"
   ]
  },
  {
   "cell_type": "code",
   "execution_count": 442,
   "metadata": {},
   "outputs": [
    {
     "name": "stdout",
     "output_type": "stream",
     "text": [
      "(8804, 6)\n",
      "(8804, 6)\n",
      "(8806, 6)\n",
      "(8804, 6)\n",
      "(8804, 6)\n",
      "(8805, 6)\n",
      "(8806, 6)\n",
      "(8806, 6)\n",
      "(8804, 6)\n"
     ]
    }
   ],
   "source": [
    "print(data1.shape)\n",
    "print(data2.shape)\n",
    "print(data3.shape)\n",
    "print(data4.shape)\n",
    "print(data5.shape)\n",
    "print(data6.shape)\n",
    "print(data7.shape)\n",
    "print(data8.shape)\n",
    "print(data9.shape)"
   ]
  },
  {
   "cell_type": "code",
   "execution_count": 446,
   "metadata": {},
   "outputs": [
    {
     "data": {
      "text/plain": [
       "79488"
      ]
     },
     "execution_count": 446,
     "metadata": {},
     "output_type": "execute_result"
    }
   ],
   "source": [
    "(30+31+31)*24*9*4"
   ]
  },
  {
   "cell_type": "code",
   "execution_count": 447,
   "metadata": {},
   "outputs": [
    {
     "data": {
      "text/html": [
       "<div>\n",
       "<style scoped>\n",
       "    .dataframe tbody tr th:only-of-type {\n",
       "        vertical-align: middle;\n",
       "    }\n",
       "\n",
       "    .dataframe tbody tr th {\n",
       "        vertical-align: top;\n",
       "    }\n",
       "\n",
       "    .dataframe thead th {\n",
       "        text-align: right;\n",
       "    }\n",
       "</style>\n",
       "<table border=\"1\" class=\"dataframe\">\n",
       "  <thead>\n",
       "    <tr style=\"text-align: right;\">\n",
       "      <th></th>\n",
       "      <th>date</th>\n",
       "      <th>wind_direction</th>\n",
       "      <th>wind_speed</th>\n",
       "    </tr>\n",
       "  </thead>\n",
       "  <tbody>\n",
       "    <tr>\n",
       "      <th>0</th>\n",
       "      <td>2016-04-01 00:00:00</td>\n",
       "      <td>190.500000</td>\n",
       "      <td>4.000000</td>\n",
       "    </tr>\n",
       "    <tr>\n",
       "      <th>1</th>\n",
       "      <td>2016-04-01 01:00:00</td>\n",
       "      <td>194.766667</td>\n",
       "      <td>4.333333</td>\n",
       "    </tr>\n",
       "    <tr>\n",
       "      <th>2</th>\n",
       "      <td>2016-04-01 02:00:00</td>\n",
       "      <td>199.033333</td>\n",
       "      <td>4.666667</td>\n",
       "    </tr>\n",
       "    <tr>\n",
       "      <th>3</th>\n",
       "      <td>2016-04-01 03:00:00</td>\n",
       "      <td>203.300000</td>\n",
       "      <td>5.000000</td>\n",
       "    </tr>\n",
       "    <tr>\n",
       "      <th>4</th>\n",
       "      <td>2016-04-01 04:00:00</td>\n",
       "      <td>202.566667</td>\n",
       "      <td>5.066667</td>\n",
       "    </tr>\n",
       "    <tr>\n",
       "      <th>...</th>\n",
       "      <td>...</td>\n",
       "      <td>...</td>\n",
       "      <td>...</td>\n",
       "    </tr>\n",
       "    <tr>\n",
       "      <th>2198</th>\n",
       "      <td>2016-12-31 19:00:00</td>\n",
       "      <td>171.666667</td>\n",
       "      <td>3.366667</td>\n",
       "    </tr>\n",
       "    <tr>\n",
       "      <th>2199</th>\n",
       "      <td>2016-12-31 20:00:00</td>\n",
       "      <td>166.333333</td>\n",
       "      <td>3.433333</td>\n",
       "    </tr>\n",
       "    <tr>\n",
       "      <th>2200</th>\n",
       "      <td>2016-12-31 21:00:00</td>\n",
       "      <td>161.000000</td>\n",
       "      <td>3.500000</td>\n",
       "    </tr>\n",
       "    <tr>\n",
       "      <th>2201</th>\n",
       "      <td>2016-12-31 22:00:00</td>\n",
       "      <td>161.000000</td>\n",
       "      <td>3.500000</td>\n",
       "    </tr>\n",
       "    <tr>\n",
       "      <th>2202</th>\n",
       "      <td>2016-12-31 23:00:00</td>\n",
       "      <td>161.000000</td>\n",
       "      <td>3.500000</td>\n",
       "    </tr>\n",
       "  </tbody>\n",
       "</table>\n",
       "<p>2203 rows × 3 columns</p>\n",
       "</div>"
      ],
      "text/plain": [
       "                    date  wind_direction  wind_speed\n",
       "0    2016-04-01 00:00:00      190.500000    4.000000\n",
       "1    2016-04-01 01:00:00      194.766667    4.333333\n",
       "2    2016-04-01 02:00:00      199.033333    4.666667\n",
       "3    2016-04-01 03:00:00      203.300000    5.000000\n",
       "4    2016-04-01 04:00:00      202.566667    5.066667\n",
       "...                  ...             ...         ...\n",
       "2198 2016-12-31 19:00:00      171.666667    3.366667\n",
       "2199 2016-12-31 20:00:00      166.333333    3.433333\n",
       "2200 2016-12-31 21:00:00      161.000000    3.500000\n",
       "2201 2016-12-31 22:00:00      161.000000    3.500000\n",
       "2202 2016-12-31 23:00:00      161.000000    3.500000\n",
       "\n",
       "[2203 rows x 3 columns]"
      ]
     },
     "execution_count": 447,
     "metadata": {},
     "output_type": "execute_result"
    }
   ],
   "source": [
    "data_meteor"
   ]
  },
  {
   "cell_type": "code",
   "execution_count": 450,
   "metadata": {},
   "outputs": [
    {
     "data": {
      "text/html": [
       "<div>\n",
       "<style scoped>\n",
       "    .dataframe tbody tr th:only-of-type {\n",
       "        vertical-align: middle;\n",
       "    }\n",
       "\n",
       "    .dataframe tbody tr th {\n",
       "        vertical-align: top;\n",
       "    }\n",
       "\n",
       "    .dataframe thead th {\n",
       "        text-align: right;\n",
       "    }\n",
       "</style>\n",
       "<table border=\"1\" class=\"dataframe\">\n",
       "  <thead>\n",
       "    <tr style=\"text-align: right;\">\n",
       "      <th></th>\n",
       "      <th>date</th>\n",
       "      <th>chemical</th>\n",
       "      <th>monitor</th>\n",
       "      <th>reading</th>\n",
       "      <th>wind_direction</th>\n",
       "      <th>wind_speed</th>\n",
       "    </tr>\n",
       "  </thead>\n",
       "  <tbody>\n",
       "    <tr>\n",
       "      <th>0</th>\n",
       "      <td>2016-04-01 00:00:00</td>\n",
       "      <td>Methylosmolene</td>\n",
       "      <td>3</td>\n",
       "      <td>2.683820</td>\n",
       "      <td>190.5</td>\n",
       "      <td>4.0</td>\n",
       "    </tr>\n",
       "    <tr>\n",
       "      <th>1</th>\n",
       "      <td>2016-04-01 00:00:00</td>\n",
       "      <td>Methylosmolene</td>\n",
       "      <td>7</td>\n",
       "      <td>2.630640</td>\n",
       "      <td>190.5</td>\n",
       "      <td>4.0</td>\n",
       "    </tr>\n",
       "    <tr>\n",
       "      <th>2</th>\n",
       "      <td>2016-04-01 00:00:00</td>\n",
       "      <td>Chlorodinine</td>\n",
       "      <td>3</td>\n",
       "      <td>1.259170</td>\n",
       "      <td>190.5</td>\n",
       "      <td>4.0</td>\n",
       "    </tr>\n",
       "    <tr>\n",
       "      <th>3</th>\n",
       "      <td>2016-04-01 00:00:00</td>\n",
       "      <td>Chlorodinine</td>\n",
       "      <td>7</td>\n",
       "      <td>0.943983</td>\n",
       "      <td>190.5</td>\n",
       "      <td>4.0</td>\n",
       "    </tr>\n",
       "    <tr>\n",
       "      <th>4</th>\n",
       "      <td>2016-04-01 00:00:00</td>\n",
       "      <td>AGOC-3A</td>\n",
       "      <td>3</td>\n",
       "      <td>0.722303</td>\n",
       "      <td>190.5</td>\n",
       "      <td>4.0</td>\n",
       "    </tr>\n",
       "    <tr>\n",
       "      <th>...</th>\n",
       "      <td>...</td>\n",
       "      <td>...</td>\n",
       "      <td>...</td>\n",
       "      <td>...</td>\n",
       "      <td>...</td>\n",
       "      <td>...</td>\n",
       "    </tr>\n",
       "    <tr>\n",
       "      <th>79238</th>\n",
       "      <td>2016-12-31 23:00:00</td>\n",
       "      <td>AGOC-3A</td>\n",
       "      <td>1</td>\n",
       "      <td>0.078266</td>\n",
       "      <td>161.0</td>\n",
       "      <td>3.5</td>\n",
       "    </tr>\n",
       "    <tr>\n",
       "      <th>79239</th>\n",
       "      <td>2016-12-31 23:00:00</td>\n",
       "      <td>Methylosmolene</td>\n",
       "      <td>3</td>\n",
       "      <td>0.062784</td>\n",
       "      <td>161.0</td>\n",
       "      <td>3.5</td>\n",
       "    </tr>\n",
       "    <tr>\n",
       "      <th>79240</th>\n",
       "      <td>2016-12-31 23:00:00</td>\n",
       "      <td>AGOC-3A</td>\n",
       "      <td>2</td>\n",
       "      <td>0.060814</td>\n",
       "      <td>161.0</td>\n",
       "      <td>3.5</td>\n",
       "    </tr>\n",
       "    <tr>\n",
       "      <th>79241</th>\n",
       "      <td>2016-12-31 23:00:00</td>\n",
       "      <td>Appluimonia</td>\n",
       "      <td>7</td>\n",
       "      <td>0.039729</td>\n",
       "      <td>161.0</td>\n",
       "      <td>3.5</td>\n",
       "    </tr>\n",
       "    <tr>\n",
       "      <th>79242</th>\n",
       "      <td>2016-12-31 23:00:00</td>\n",
       "      <td>AGOC-3A</td>\n",
       "      <td>7</td>\n",
       "      <td>0.014658</td>\n",
       "      <td>161.0</td>\n",
       "      <td>3.5</td>\n",
       "    </tr>\n",
       "  </tbody>\n",
       "</table>\n",
       "<p>79243 rows × 6 columns</p>\n",
       "</div>"
      ],
      "text/plain": [
       "                     date        chemical  monitor   reading  wind_direction  \\\n",
       "0     2016-04-01 00:00:00  Methylosmolene        3  2.683820           190.5   \n",
       "1     2016-04-01 00:00:00  Methylosmolene        7  2.630640           190.5   \n",
       "2     2016-04-01 00:00:00    Chlorodinine        3  1.259170           190.5   \n",
       "3     2016-04-01 00:00:00    Chlorodinine        7  0.943983           190.5   \n",
       "4     2016-04-01 00:00:00         AGOC-3A        3  0.722303           190.5   \n",
       "...                   ...             ...      ...       ...             ...   \n",
       "79238 2016-12-31 23:00:00         AGOC-3A        1  0.078266           161.0   \n",
       "79239 2016-12-31 23:00:00  Methylosmolene        3  0.062784           161.0   \n",
       "79240 2016-12-31 23:00:00         AGOC-3A        2  0.060814           161.0   \n",
       "79241 2016-12-31 23:00:00     Appluimonia        7  0.039729           161.0   \n",
       "79242 2016-12-31 23:00:00         AGOC-3A        7  0.014658           161.0   \n",
       "\n",
       "       wind_speed  \n",
       "0             4.0  \n",
       "1             4.0  \n",
       "2             4.0  \n",
       "3             4.0  \n",
       "4             4.0  \n",
       "...           ...  \n",
       "79238         3.5  \n",
       "79239         3.5  \n",
       "79240         3.5  \n",
       "79241         3.5  \n",
       "79242         3.5  \n",
       "\n",
       "[79243 rows x 6 columns]"
      ]
     },
     "execution_count": 450,
     "metadata": {},
     "output_type": "execute_result"
    }
   ],
   "source": [
    "data_new"
   ]
  },
  {
   "cell_type": "code",
   "execution_count": 451,
   "metadata": {},
   "outputs": [
    {
     "name": "stdout",
     "output_type": "stream",
     "text": [
      "0\n"
     ]
    }
   ],
   "source": [
    "print(len(data_new['reading']) - np.count_nonzero(data_new['reading']))"
   ]
  },
  {
   "cell_type": "code",
   "execution_count": 453,
   "metadata": {},
   "outputs": [
    {
     "data": {
      "text/plain": [
       "0      2016-04-01 00:00:00\n",
       "1      2016-04-01 01:00:00\n",
       "2      2016-04-01 02:00:00\n",
       "3      2016-04-01 03:00:00\n",
       "4      2016-04-01 04:00:00\n",
       "               ...        \n",
       "2198   2016-12-31 19:00:00\n",
       "2199   2016-12-31 20:00:00\n",
       "2200   2016-12-31 21:00:00\n",
       "2201   2016-12-31 22:00:00\n",
       "2202   2016-12-31 23:00:00\n",
       "Name: date, Length: 2203, dtype: datetime64[ns]"
      ]
     },
     "execution_count": 453,
     "metadata": {},
     "output_type": "execute_result"
    }
   ],
   "source": [
    "data_meteor.date"
   ]
  },
  {
   "cell_type": "code",
   "execution_count": 459,
   "metadata": {},
   "outputs": [],
   "source": [
    "df = []"
   ]
  },
  {
   "cell_type": "code",
   "execution_count": 495,
   "metadata": {},
   "outputs": [],
   "source": [
    "# pd.date_range('2015-07-03', '2015-07-30', periods=24, freq='H')\n",
    "four = pd.date_range('2016-04-01', '2016-05-01', freq='H')\n",
    "eight = pd.date_range('2016-08-01', '2016-09-01', freq='H')\n",
    "twelve = pd.date_range('2016-12-01', '2017-01-01', freq='H')\n",
    "a = four.to_frame().reset_index(drop=True)\n",
    "a = a[:-1]\n",
    "b = eight.to_frame().reset_index(drop=True)\n",
    "b = b[:-1]\n",
    "c = twelve.to_frame().reset_index(drop=True)\n",
    "c = c[:-1]"
   ]
  },
  {
   "cell_type": "code",
   "execution_count": 496,
   "metadata": {},
   "outputs": [
    {
     "data": {
      "text/html": [
       "<div>\n",
       "<style scoped>\n",
       "    .dataframe tbody tr th:only-of-type {\n",
       "        vertical-align: middle;\n",
       "    }\n",
       "\n",
       "    .dataframe tbody tr th {\n",
       "        vertical-align: top;\n",
       "    }\n",
       "\n",
       "    .dataframe thead th {\n",
       "        text-align: right;\n",
       "    }\n",
       "</style>\n",
       "<table border=\"1\" class=\"dataframe\">\n",
       "  <thead>\n",
       "    <tr style=\"text-align: right;\">\n",
       "      <th></th>\n",
       "      <th>0</th>\n",
       "    </tr>\n",
       "  </thead>\n",
       "  <tbody>\n",
       "    <tr>\n",
       "      <th>0</th>\n",
       "      <td>2016-04-01 00:00:00</td>\n",
       "    </tr>\n",
       "    <tr>\n",
       "      <th>1</th>\n",
       "      <td>2016-04-01 01:00:00</td>\n",
       "    </tr>\n",
       "    <tr>\n",
       "      <th>2</th>\n",
       "      <td>2016-04-01 02:00:00</td>\n",
       "    </tr>\n",
       "    <tr>\n",
       "      <th>3</th>\n",
       "      <td>2016-04-01 03:00:00</td>\n",
       "    </tr>\n",
       "    <tr>\n",
       "      <th>4</th>\n",
       "      <td>2016-04-01 04:00:00</td>\n",
       "    </tr>\n",
       "    <tr>\n",
       "      <th>...</th>\n",
       "      <td>...</td>\n",
       "    </tr>\n",
       "    <tr>\n",
       "      <th>715</th>\n",
       "      <td>2016-04-30 19:00:00</td>\n",
       "    </tr>\n",
       "    <tr>\n",
       "      <th>716</th>\n",
       "      <td>2016-04-30 20:00:00</td>\n",
       "    </tr>\n",
       "    <tr>\n",
       "      <th>717</th>\n",
       "      <td>2016-04-30 21:00:00</td>\n",
       "    </tr>\n",
       "    <tr>\n",
       "      <th>718</th>\n",
       "      <td>2016-04-30 22:00:00</td>\n",
       "    </tr>\n",
       "    <tr>\n",
       "      <th>719</th>\n",
       "      <td>2016-04-30 23:00:00</td>\n",
       "    </tr>\n",
       "  </tbody>\n",
       "</table>\n",
       "<p>720 rows × 1 columns</p>\n",
       "</div>"
      ],
      "text/plain": [
       "                      0\n",
       "0   2016-04-01 00:00:00\n",
       "1   2016-04-01 01:00:00\n",
       "2   2016-04-01 02:00:00\n",
       "3   2016-04-01 03:00:00\n",
       "4   2016-04-01 04:00:00\n",
       "..                  ...\n",
       "715 2016-04-30 19:00:00\n",
       "716 2016-04-30 20:00:00\n",
       "717 2016-04-30 21:00:00\n",
       "718 2016-04-30 22:00:00\n",
       "719 2016-04-30 23:00:00\n",
       "\n",
       "[720 rows x 1 columns]"
      ]
     },
     "execution_count": 496,
     "metadata": {},
     "output_type": "execute_result"
    }
   ],
   "source": [
    "a"
   ]
  },
  {
   "cell_type": "code",
   "execution_count": 497,
   "metadata": {},
   "outputs": [],
   "source": [
    "data_list = [a, b, c]"
   ]
  },
  {
   "cell_type": "code",
   "execution_count": 498,
   "metadata": {},
   "outputs": [],
   "source": [
    "date = pd.concat(data_list)"
   ]
  },
  {
   "cell_type": "code",
   "execution_count": 502,
   "metadata": {},
   "outputs": [],
   "source": [
    "date = date.reset_index(drop=True)"
   ]
  },
  {
   "cell_type": "code",
   "execution_count": 511,
   "metadata": {},
   "outputs": [],
   "source": [
    "date_comp = date.set_axis(['date'], axis=1, inplace=False) "
   ]
  },
  {
   "cell_type": "code",
   "execution_count": 512,
   "metadata": {},
   "outputs": [
    {
     "data": {
      "text/html": [
       "<div>\n",
       "<style scoped>\n",
       "    .dataframe tbody tr th:only-of-type {\n",
       "        vertical-align: middle;\n",
       "    }\n",
       "\n",
       "    .dataframe tbody tr th {\n",
       "        vertical-align: top;\n",
       "    }\n",
       "\n",
       "    .dataframe thead th {\n",
       "        text-align: right;\n",
       "    }\n",
       "</style>\n",
       "<table border=\"1\" class=\"dataframe\">\n",
       "  <thead>\n",
       "    <tr style=\"text-align: right;\">\n",
       "      <th></th>\n",
       "      <th>date</th>\n",
       "    </tr>\n",
       "  </thead>\n",
       "  <tbody>\n",
       "    <tr>\n",
       "      <th>0</th>\n",
       "      <td>2016-04-01 00:00:00</td>\n",
       "    </tr>\n",
       "    <tr>\n",
       "      <th>1</th>\n",
       "      <td>2016-04-01 01:00:00</td>\n",
       "    </tr>\n",
       "    <tr>\n",
       "      <th>2</th>\n",
       "      <td>2016-04-01 02:00:00</td>\n",
       "    </tr>\n",
       "    <tr>\n",
       "      <th>3</th>\n",
       "      <td>2016-04-01 03:00:00</td>\n",
       "    </tr>\n",
       "    <tr>\n",
       "      <th>4</th>\n",
       "      <td>2016-04-01 04:00:00</td>\n",
       "    </tr>\n",
       "    <tr>\n",
       "      <th>...</th>\n",
       "      <td>...</td>\n",
       "    </tr>\n",
       "    <tr>\n",
       "      <th>2203</th>\n",
       "      <td>2016-12-31 19:00:00</td>\n",
       "    </tr>\n",
       "    <tr>\n",
       "      <th>2204</th>\n",
       "      <td>2016-12-31 20:00:00</td>\n",
       "    </tr>\n",
       "    <tr>\n",
       "      <th>2205</th>\n",
       "      <td>2016-12-31 21:00:00</td>\n",
       "    </tr>\n",
       "    <tr>\n",
       "      <th>2206</th>\n",
       "      <td>2016-12-31 22:00:00</td>\n",
       "    </tr>\n",
       "    <tr>\n",
       "      <th>2207</th>\n",
       "      <td>2016-12-31 23:00:00</td>\n",
       "    </tr>\n",
       "  </tbody>\n",
       "</table>\n",
       "<p>2208 rows × 1 columns</p>\n",
       "</div>"
      ],
      "text/plain": [
       "                    date\n",
       "0    2016-04-01 00:00:00\n",
       "1    2016-04-01 01:00:00\n",
       "2    2016-04-01 02:00:00\n",
       "3    2016-04-01 03:00:00\n",
       "4    2016-04-01 04:00:00\n",
       "...                  ...\n",
       "2203 2016-12-31 19:00:00\n",
       "2204 2016-12-31 20:00:00\n",
       "2205 2016-12-31 21:00:00\n",
       "2206 2016-12-31 22:00:00\n",
       "2207 2016-12-31 23:00:00\n",
       "\n",
       "[2208 rows x 1 columns]"
      ]
     },
     "execution_count": 512,
     "metadata": {},
     "output_type": "execute_result"
    }
   ],
   "source": [
    "date_comp"
   ]
  },
  {
   "cell_type": "code",
   "execution_count": 528,
   "metadata": {},
   "outputs": [
    {
     "name": "stdout",
     "output_type": "stream",
     "text": [
      "2016-04-02 00:00:00\n",
      "2016-04-06 00:00:00\n",
      "2016-08-04 00:00:00\n",
      "2016-08-07 00:00:00\n",
      "2016-12-02 00:00:00\n"
     ]
    }
   ],
   "source": [
    "l = list(data_meteor.date)\n",
    "for i in range(len(date_comp)):\n",
    "    if date_comp['date'][i] not in l:\n",
    "        print(date_comp['date'][i])"
   ]
  },
  {
   "cell_type": "code",
   "execution_count": 539,
   "metadata": {},
   "outputs": [
    {
     "data": {
      "text/plain": [
       "0       2016-04-01 00:00:00\n",
       "1       2016-04-01 00:00:00\n",
       "2       2016-04-01 00:00:00\n",
       "3       2016-04-01 00:00:00\n",
       "4       2016-04-01 00:00:00\n",
       "                ...        \n",
       "79238   2016-12-31 23:00:00\n",
       "79239   2016-12-31 23:00:00\n",
       "79240   2016-12-31 23:00:00\n",
       "79241   2016-12-31 23:00:00\n",
       "79242   2016-12-31 23:00:00\n",
       "Name: date, Length: 79243, dtype: datetime64[ns]"
      ]
     },
     "execution_count": 539,
     "metadata": {},
     "output_type": "execute_result"
    }
   ],
   "source": [
    "data_new.date"
   ]
  },
  {
   "cell_type": "code",
   "execution_count": 546,
   "metadata": {},
   "outputs": [],
   "source": [
    "dups_date = data_new.pivot_table(index=['date'], aggfunc='size')\n",
    "dups_date = dups_date.to_frame()\n",
    "dups_date.reset_index(level=0, inplace=True)\n",
    "dups_date.rename(columns={ dups_date.columns[1]: \"count\" }, inplace = True)"
   ]
  },
  {
   "cell_type": "code",
   "execution_count": 551,
   "metadata": {},
   "outputs": [
    {
     "data": {
      "text/html": [
       "<div>\n",
       "<style scoped>\n",
       "    .dataframe tbody tr th:only-of-type {\n",
       "        vertical-align: middle;\n",
       "    }\n",
       "\n",
       "    .dataframe tbody tr th {\n",
       "        vertical-align: top;\n",
       "    }\n",
       "\n",
       "    .dataframe thead th {\n",
       "        text-align: right;\n",
       "    }\n",
       "</style>\n",
       "<table border=\"1\" class=\"dataframe\">\n",
       "  <thead>\n",
       "    <tr style=\"text-align: right;\">\n",
       "      <th></th>\n",
       "      <th>date</th>\n",
       "      <th>count</th>\n",
       "    </tr>\n",
       "  </thead>\n",
       "  <tbody>\n",
       "    <tr>\n",
       "      <th>0</th>\n",
       "      <td>2016-04-01 00:00:00</td>\n",
       "      <td>36</td>\n",
       "    </tr>\n",
       "    <tr>\n",
       "      <th>1</th>\n",
       "      <td>2016-04-01 01:00:00</td>\n",
       "      <td>36</td>\n",
       "    </tr>\n",
       "    <tr>\n",
       "      <th>2</th>\n",
       "      <td>2016-04-01 02:00:00</td>\n",
       "      <td>36</td>\n",
       "    </tr>\n",
       "    <tr>\n",
       "      <th>3</th>\n",
       "      <td>2016-04-01 03:00:00</td>\n",
       "      <td>36</td>\n",
       "    </tr>\n",
       "    <tr>\n",
       "      <th>4</th>\n",
       "      <td>2016-04-01 04:00:00</td>\n",
       "      <td>36</td>\n",
       "    </tr>\n",
       "    <tr>\n",
       "      <th>...</th>\n",
       "      <td>...</td>\n",
       "      <td>...</td>\n",
       "    </tr>\n",
       "    <tr>\n",
       "      <th>2198</th>\n",
       "      <td>2016-12-31 19:00:00</td>\n",
       "      <td>36</td>\n",
       "    </tr>\n",
       "    <tr>\n",
       "      <th>2199</th>\n",
       "      <td>2016-12-31 20:00:00</td>\n",
       "      <td>36</td>\n",
       "    </tr>\n",
       "    <tr>\n",
       "      <th>2200</th>\n",
       "      <td>2016-12-31 21:00:00</td>\n",
       "      <td>36</td>\n",
       "    </tr>\n",
       "    <tr>\n",
       "      <th>2201</th>\n",
       "      <td>2016-12-31 22:00:00</td>\n",
       "      <td>36</td>\n",
       "    </tr>\n",
       "    <tr>\n",
       "      <th>2202</th>\n",
       "      <td>2016-12-31 23:00:00</td>\n",
       "      <td>36</td>\n",
       "    </tr>\n",
       "  </tbody>\n",
       "</table>\n",
       "<p>2203 rows × 2 columns</p>\n",
       "</div>"
      ],
      "text/plain": [
       "                    date  count\n",
       "0    2016-04-01 00:00:00     36\n",
       "1    2016-04-01 01:00:00     36\n",
       "2    2016-04-01 02:00:00     36\n",
       "3    2016-04-01 03:00:00     36\n",
       "4    2016-04-01 04:00:00     36\n",
       "...                  ...    ...\n",
       "2198 2016-12-31 19:00:00     36\n",
       "2199 2016-12-31 20:00:00     36\n",
       "2200 2016-12-31 21:00:00     36\n",
       "2201 2016-12-31 22:00:00     36\n",
       "2202 2016-12-31 23:00:00     36\n",
       "\n",
       "[2203 rows x 2 columns]"
      ]
     },
     "execution_count": 551,
     "metadata": {},
     "output_type": "execute_result"
    }
   ],
   "source": [
    "dups_date"
   ]
  },
  {
   "cell_type": "code",
   "execution_count": 561,
   "metadata": {},
   "outputs": [
    {
     "data": {
      "text/html": [
       "<div>\n",
       "<style scoped>\n",
       "    .dataframe tbody tr th:only-of-type {\n",
       "        vertical-align: middle;\n",
       "    }\n",
       "\n",
       "    .dataframe tbody tr th {\n",
       "        vertical-align: top;\n",
       "    }\n",
       "\n",
       "    .dataframe thead th {\n",
       "        text-align: right;\n",
       "    }\n",
       "</style>\n",
       "<table border=\"1\" class=\"dataframe\">\n",
       "  <thead>\n",
       "    <tr style=\"text-align: right;\">\n",
       "      <th></th>\n",
       "      <th>date</th>\n",
       "      <th>count</th>\n",
       "    </tr>\n",
       "  </thead>\n",
       "  <tbody>\n",
       "    <tr>\n",
       "      <th>742</th>\n",
       "      <td>2016-08-02</td>\n",
       "      <td>2</td>\n",
       "    </tr>\n",
       "    <tr>\n",
       "      <th>1603</th>\n",
       "      <td>2016-12-07</td>\n",
       "      <td>5</td>\n",
       "    </tr>\n",
       "  </tbody>\n",
       "</table>\n",
       "</div>"
      ],
      "text/plain": [
       "           date  count\n",
       "742  2016-08-02      2\n",
       "1603 2016-12-07      5"
      ]
     },
     "execution_count": 561,
     "metadata": {},
     "output_type": "execute_result"
    }
   ],
   "source": [
    "dups_date.loc[dups_date['count'] < 36]"
   ]
  },
  {
   "cell_type": "code",
   "execution_count": 560,
   "metadata": {},
   "outputs": [
    {
     "data": {
      "text/plain": [
       "0       False\n",
       "1       False\n",
       "2       False\n",
       "3       False\n",
       "4       False\n",
       "        ...  \n",
       "2198    False\n",
       "2199    False\n",
       "2200    False\n",
       "2201    False\n",
       "2202    False\n",
       "Name: count, Length: 2203, dtype: bool"
      ]
     },
     "execution_count": 560,
     "metadata": {},
     "output_type": "execute_result"
    }
   ],
   "source": [
    "a"
   ]
  },
  {
   "cell_type": "code",
   "execution_count": 550,
   "metadata": {},
   "outputs": [
    {
     "data": {
      "text/html": [
       "<div>\n",
       "<style scoped>\n",
       "    .dataframe tbody tr th:only-of-type {\n",
       "        vertical-align: middle;\n",
       "    }\n",
       "\n",
       "    .dataframe tbody tr th {\n",
       "        vertical-align: top;\n",
       "    }\n",
       "\n",
       "    .dataframe thead th {\n",
       "        text-align: right;\n",
       "    }\n",
       "</style>\n",
       "<table border=\"1\" class=\"dataframe\">\n",
       "  <thead>\n",
       "    <tr style=\"text-align: right;\">\n",
       "      <th></th>\n",
       "      <th>date</th>\n",
       "      <th>count</th>\n",
       "    </tr>\n",
       "  </thead>\n",
       "  <tbody>\n",
       "  </tbody>\n",
       "</table>\n",
       "</div>"
      ],
      "text/plain": [
       "Empty DataFrame\n",
       "Columns: [date, count]\n",
       "Index: []"
      ]
     },
     "execution_count": 550,
     "metadata": {},
     "output_type": "execute_result"
    }
   ],
   "source": [
    "dups_date.loc[dups_date['count'] > 36]"
   ]
  },
  {
   "cell_type": "code",
   "execution_count": 553,
   "metadata": {},
   "outputs": [
    {
     "data": {
      "text/plain": [
       "245"
      ]
     },
     "execution_count": 553,
     "metadata": {},
     "output_type": "execute_result"
    }
   ],
   "source": [
    "(34 + 31 + (36 * 5))"
   ]
  },
  {
   "cell_type": "code",
   "execution_count": 604,
   "metadata": {},
   "outputs": [],
   "source": [
    "data = pd.read_csv(\"/Users/raghav/Documents/DV/VAST-2017-MC2-Venkatramanan/MC2Data/data_new.csv\")"
   ]
  },
  {
   "cell_type": "code",
   "execution_count": 605,
   "metadata": {},
   "outputs": [],
   "source": [
    "data['wind_direction'] = data['wind_direction'].fillna(0)\n",
    "data['wind_speed'] = data['wind_speed'].fillna(0)\n",
    "data['date'] = pd.to_datetime(data['date'])\n",
    "data.drop(data.columns[[0]], axis=1, inplace=True)\n",
    "data = data.sort_values(by=['date', 'monitor', 'chemical'], ascending=True)\n",
    "data = data.reset_index(drop=True)\n",
    "data.to_csv('/Users/raghav/Documents/DV/VAST-2017-MC2-Venkatramanan/MC2Data/data_new.csv')"
   ]
  },
  {
   "cell_type": "code",
   "execution_count": 607,
   "metadata": {},
   "outputs": [],
   "source": [
    "data_new = data"
   ]
  },
  {
   "cell_type": "code",
   "execution_count": 608,
   "metadata": {},
   "outputs": [],
   "source": [
    "data1 = data_new[data_new.monitor == 1]\n",
    "data1 = data1.reset_index(drop=True)\n",
    "data2 = data_new[data_new.monitor == 2]\n",
    "data2 = data2.reset_index(drop=True)\n",
    "data3 = data_new[data_new.monitor == 3]\n",
    "data3 = data3.reset_index(drop=True)\n",
    "data4 = data_new[data_new.monitor == 4]\n",
    "data4 = data4.reset_index(drop=True)\n",
    "data5 = data_new[data_new.monitor == 5]\n",
    "data5 = data5.reset_index(drop=True)\n",
    "data6 = data_new[data_new.monitor == 6]\n",
    "data6 = data6.reset_index(drop=True)\n",
    "data7 = data_new[data_new.monitor == 7]\n",
    "data7 = data7.reset_index(drop=True)\n",
    "data8 = data_new[data_new.monitor == 8]\n",
    "data8 = data8.reset_index(drop=True)\n",
    "data9 = data_new[data_new.monitor == 9]\n",
    "data9 = data9.reset_index(drop=True)\n",
    "data1.to_csv('/Users/raghav/Documents/DV/VAST-2017-MC2-Venkatramanan/MC2Data/sensor_1.csv')\n",
    "data2.to_csv('/Users/raghav/Documents/DV/VAST-2017-MC2-Venkatramanan/MC2Data/sensor_2.csv')\n",
    "data3.to_csv('/Users/raghav/Documents/DV/VAST-2017-MC2-Venkatramanan/MC2Data/sensor_3.csv')\n",
    "data4.to_csv('/Users/raghav/Documents/DV/VAST-2017-MC2-Venkatramanan/MC2Data/sensor_4.csv')\n",
    "data5.to_csv('/Users/raghav/Documents/DV/VAST-2017-MC2-Venkatramanan/MC2Data/sensor_5.csv')\n",
    "data6.to_csv('/Users/raghav/Documents/DV/VAST-2017-MC2-Venkatramanan/MC2Data/sensor_6.csv')\n",
    "data7.to_csv('/Users/raghav/Documents/DV/VAST-2017-MC2-Venkatramanan/MC2Data/sensor_7.csv')\n",
    "data8.to_csv('/Users/raghav/Documents/DV/VAST-2017-MC2-Venkatramanan/MC2Data/sensor_8.csv')\n",
    "data9.to_csv('/Users/raghav/Documents/DV/VAST-2017-MC2-Venkatramanan/MC2Data/sensor_9.csv')"
   ]
  },
  {
   "cell_type": "code",
   "execution_count": null,
   "metadata": {},
   "outputs": [],
   "source": [
    "# import matplotlib.image as mpimg \n",
    "# import matplotlib.pyplot as plt \n",
    "  \n",
    "# # Read Images \n",
    "# img = mpimg.imread('/Users/raghav/Documents/DV/project/MC2Data/MapLargeLabels.jpg') \n",
    "# plt.rcParams['figure.figsize'] = [20, 10]\n",
    "# # Output Images \n",
    "# plt.imshow(img) \n",
    "\n",
    "# data.isna().sum()\n",
    "# data = data.dropna()   \n",
    "# data"
   ]
  }
 ],
 "metadata": {
  "kernelspec": {
   "display_name": "Python 3",
   "language": "python",
   "name": "python3"
  },
  "language_info": {
   "codemirror_mode": {
    "name": "ipython",
    "version": 3
   },
   "file_extension": ".py",
   "mimetype": "text/x-python",
   "name": "python",
   "nbconvert_exporter": "python",
   "pygments_lexer": "ipython3",
   "version": "3.7.6"
  }
 },
 "nbformat": 4,
 "nbformat_minor": 4
}
